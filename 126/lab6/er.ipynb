{
 "cells": [
  {
   "cell_type": "code",
   "execution_count": 2,
   "metadata": {
    "deletable": false,
    "editable": false
   },
   "outputs": [],
   "source": [
    "# Initialize Otter\n",
    "import otter\n",
    "grader = otter.Notebook(\"er.ipynb\")"
   ]
  },
  {
   "cell_type": "markdown",
   "metadata": {},
   "source": [
    "# Random Graphs: The Erdős–Rényi and Stochastic Block Models\n",
    "\n",
    "#### Authors:\n",
    "\n",
    "v1.0 (2014 Fall) Rishi Sharma, Sahaana Suri, Kangwook Lee, Kannan Ramchandran<br />\n",
    "v1.1 (2015 Fall) Kabir Chandrasekher, Max Kanwal, Kangwook Lee, Kannan Ramchandran<br />\n",
    "v1.2 (2016 Fall) Kabir Chandrasekher, Tony Duan, David Marn, Ashvin Nair, Kangwook Lee, Kannan Ramchandran <br />\n",
    "v1.3 (2018 Spring) Tavor Baharav, Kaylee Burns, Gary Cheng, Sinho Chewi, Hemang Jangle, William Gan, Alvin Kao, Chen Meng, Vrettos Muolos, Kanaad Parvate, Ray Ramamurti <br />\n",
    "v1.4 (2018 Fall) Raghav Anand, Kurtland Chua, Payam Delgosha, William Gan, Avishek Ghosh, Justin Hong, Nikunj Jain, Katie Kang, Adarsh Karnati, Eric Liu, Kanaad Parvate, Ray Ramamurti, Amay Saxena, Kannan Ramchandran, Abhay Parekh <br />\n",
    "v2.0 (2022 Spring) Sohom Paul, Clark Wang, Catherine Huang <br />\n",
    "v2.1 (2022 Fall) Axel Li, Reina Wang, Andy Dong, Kannan Ramchandran <br />\n",
    "v3.0 (2023 Spring) Reina Wang, Thomas Courtade <br />\n",
    "v3.1 (2024 Fall) Tianhao Wu <br />\n",
    "v3.2 (2025 Spring) Lance Mathias <br />"
   ]
  },
  {
   "cell_type": "markdown",
   "metadata": {},
   "source": [
    "## Question 1 -- The Erdős–Rényi Model"
   ]
  },
  {
   "cell_type": "markdown",
   "metadata": {},
   "source": [
    "To begin the lab, we explore random graphs, introduced by [Erdős and Rényi](http://www.renyi.hu/~p_erdos/1959-11.pdf). Note that you don't need prior knowledge of random graphs for this lab.\n",
    "\n",
    "In the Erdős-Rényi model, we use the notation $\\operatorname{G}(n,p)$ to denote a random graph that has $n$ nodes and probability $p$ of an edge between each pair of nodes. More precisely, for each pair of nodes, we flip a biased coin with probability $p$ of heads - if it lands heads, we add an edge between those nodes. All these coin flips are independent. This simple model has many fascinating properties and has been extensively studied in probability theory, computer science and statistical physics. For example, as we increase $p$ from 0 to 1, the random graph undergoes several phase transitions where its structural properties change dramatically."
   ]
  },
  {
   "cell_type": "markdown",
   "metadata": {},
   "source": [
    "This lab requires [Python 3.7+](https://www.python.org/downloads/) and the [NetworkX](http://networkx.github.io/documentation/stable/install.html), which comes by default with Anaconda. You can check your Python version using the following cell and install NetworkX via `!pip install networkx`; you may need to restart the Jupyter kernel after installing NetworkX.\n",
    "\n",
    "If either cell fails on your local machine, you can also navigate to [colab.research.google.com](colab.research.google.com) and upload this file to run this notebook remotely."
   ]
  },
  {
   "cell_type": "code",
   "execution_count": 3,
   "metadata": {},
   "outputs": [],
   "source": [
    "!pip install networkx -q"
   ]
  },
  {
   "cell_type": "code",
   "execution_count": 4,
   "metadata": {},
   "outputs": [],
   "source": [
    "import sys\n",
    "assert sys.version_info.major == 3, \"Please use Python3!\"\n",
    "assert sys.version_info.minor >= 7, \"This lab requires Python 3.7 or higher.\""
   ]
  },
  {
   "cell_type": "markdown",
   "metadata": {},
   "source": [
    "We provide the following `Graph` class and a function written to draw graphs for you. You should know how to use `draw_graph`, but you don't really need to know how it works. Play around with it and look at those pretty graphs :)"
   ]
  },
  {
   "cell_type": "code",
   "execution_count": 5,
   "metadata": {},
   "outputs": [],
   "source": [
    "%matplotlib inline\n",
    "from typing import Iterable, Tuple, Set\n",
    "\n",
    "import itertools\n",
    "import matplotlib.pyplot as plt\n",
    "import networkx as nx\n",
    "import numpy as np"
   ]
  },
  {
   "cell_type": "code",
   "execution_count": 6,
   "metadata": {},
   "outputs": [],
   "source": [
    "Vertex = int\n",
    "\n",
    "class Graph:\n",
    "    def __init__(self, num_vertices: int):\n",
    "        self.vertices = [Vertex(i) for i in range(num_vertices)]\n",
    "        self.adjacency_lists = dict()\n",
    "        for v in self.vertices:\n",
    "            self.adjacency_lists[v] = set()\n",
    "\n",
    "    def get_neighbors(self, vertex: Vertex):\n",
    "        if vertex not in self.vertices:\n",
    "            raise ValueError(f\"Given vertex {vertex} not found in vertex set.\")\n",
    "        return self.adjacency_lists[vertex]\n",
    "\n",
    "    def add_edge(self, v1: Vertex, v2: Vertex):\n",
    "        if v1 not in self.vertices or v2 not in self.vertices:\n",
    "            raise ValueError(\n",
    "                f\"One of given vertices {v1} or {v2} not found in vertex set.\"\n",
    "            )\n",
    "        self.adjacency_lists[v1].add(v2)\n",
    "        self.adjacency_lists[v2].add(v1)\n",
    "\n",
    "    def add_edges(self, edge_list: Iterable[Tuple[Vertex, Vertex]]):\n",
    "        for v1, v2 in edge_list:\n",
    "            self.add_edge(v1, v2)"
   ]
  },
  {
   "cell_type": "code",
   "execution_count": 7,
   "metadata": {},
   "outputs": [],
   "source": [
    "def draw_graph(\n",
    "    graph: Graph, \n",
    "    graph_layout='shell',\n",
    "    node_size=3200, \n",
    "    node_color='blue',\n",
    "    node_alpha=0.3,\n",
    "    node_text_size=24,\n",
    "    edge_color='blue',\n",
    "    edge_alpha=0.3,\n",
    "    edge_tickness=2,\n",
    "    text_font='sans-serif',\n",
    "):\n",
    "    nx_graph = nx.Graph()\n",
    "    for v1 in graph.vertices:\n",
    "        nx_graph.add_node(v1)\n",
    "        for v2 in graph.get_neighbors(v1):\n",
    "            nx_graph.add_edge(v1, v2)   \n",
    "    if graph_layout == 'spring':\n",
    "        graph_pos = nx.spring_layout(nx_graph)\n",
    "    elif graph_layout == 'spectral':\n",
    "        graph_pos = nx.spectral_layout(nx_graph)\n",
    "    elif graph_layout == 'random':\n",
    "        graph_pos = nx.random_layout(nx_graph)\n",
    "    else:\n",
    "        graph_pos=nx.shell_layout(nx_graph)\n",
    "    nx.draw_networkx_nodes(\n",
    "        nx_graph, \n",
    "        graph_pos, \n",
    "        node_size=node_size, \n",
    "        alpha=node_alpha,\n",
    "        node_color=node_color\n",
    "    )\n",
    "    nx.draw_networkx_edges(\n",
    "        nx_graph,\n",
    "        graph_pos,\n",
    "        width=edge_tickness,\n",
    "        alpha=edge_alpha,\n",
    "        edge_color=edge_color\n",
    "    )\n",
    "    nx.draw_networkx_labels(\n",
    "        nx_graph,\n",
    "        graph_pos,\n",
    "        font_size=node_text_size,\n",
    "        font_family=text_font\n",
    "    )\n",
    "    plt.show()"
   ]
  },
  {
   "cell_type": "code",
   "execution_count": 9,
   "metadata": {},
   "outputs": [],
   "source": [
    "def find_connected_component(graph: Graph, starting_node: Vertex) -> Set[Vertex]:\n",
    "    \"\"\"\n",
    "    Returns a set of vertices the graph connected to a starting node.\n",
    "    \"\"\"\n",
    "    visited = set()\n",
    "    frontier = list()\n",
    "    frontier.append(starting_node)\n",
    "    visited.add(starting_node)\n",
    "    while frontier:\n",
    "        curr = frontier.pop()\n",
    "        for adjacent in graph.get_neighbors(curr):\n",
    "            if adjacent not in visited:\n",
    "                visited.add(adjacent)\n",
    "                frontier.append(adjacent)\n",
    "    return visited\n",
    "\n",
    "def connected_components(graph: Graph) -> Iterable[Set[Vertex]]:\n",
    "    \"\"\"\n",
    "    Returns a list of sets containing the connected components of the graph.\n",
    "    \"\"\"\n",
    "    components = []\n",
    "    seen = set()\n",
    "    for v in graph.vertices:\n",
    "        if v not in seen:\n",
    "            component = find_connected_component(graph, v)\n",
    "            components.append(component)\n",
    "            seen = seen.union(component)\n",
    "    return components\n",
    "\n",
    "def component_sizes(graph: Graph) -> Iterable[int]:\n",
    "    \"\"\"\n",
    "    Returns a list of sizes of the connected components of the graph.\n",
    "    \"\"\"\n",
    "    return [len(component) for component in connected_components(graph)]\n",
    "\n",
    "def largest_component_size(graph: Graph) -> int:\n",
    "    \"\"\"\n",
    "    Returns the size of the largest connected component of the graph.\n",
    "    \"\"\"\n",
    "    return max(component_sizes(graph))"
   ]
  },
  {
   "cell_type": "code",
   "execution_count": 10,
   "metadata": {},
   "outputs": [
    {
     "data": {
      "image/png": "[encoded data removed]",
      "text/plain": [
       "<Figure size 640x480 with 1 Axes>"
      ]
     },
     "metadata": {},
     "output_type": "display_data"
    }
   ],
   "source": [
    "graph = Graph(num_vertices=3)\n",
    "edge_list = [(0, 1), (1, 2), (0, 2)]\n",
    "graph.add_edges(edge_list)\n",
    "draw_graph(graph)"
   ]
  },
  {
   "cell_type": "code",
   "execution_count": 11,
   "metadata": {},
   "outputs": [
    {
     "data": {
      "image/png": "[encoded data removed]",
      "text/plain": [
       "<Figure size 640x480 with 1 Axes>"
      ]
     },
     "metadata": {},
     "output_type": "display_data"
    }
   ],
   "source": [
    "graph = Graph(num_vertices=2)\n",
    "draw_graph(graph)"
   ]
  },
  {
   "cell_type": "code",
   "execution_count": 12,
   "metadata": {},
   "outputs": [
    {
     "data": {
      "image/png": "[encoded data removed]",
      "text/plain": [
       "<Figure size 640x480 with 1 Axes>"
      ]
     },
     "metadata": {},
     "output_type": "display_data"
    },
    {
     "name": "stdout",
     "output_type": "stream",
     "text": [
      "Nodes reachable from node 0: {0, 6, 7}\n",
      "Nodes reachable from node 1: {1, 2, 3, 4, 5}\n",
      "Connected components: [{0, 6, 7}, {1, 2, 3, 4, 5}]\n",
      "Component sizes: [3, 5]\n",
      "Largest component size: 5\n"
     ]
    }
   ],
   "source": [
    "graph = Graph(num_vertices=8)\n",
    "edge_list = [(1, 2), (1, 3), (2, 4), (2, 5), (3, 5), (0, 6), (6, 7), (0, 7)]\n",
    "graph.add_edges(edge_list)\n",
    "draw_graph(graph)\n",
    "print(\"Nodes reachable from node 0:\", find_connected_component(graph, 0))\n",
    "print(\"Nodes reachable from node 1:\", find_connected_component(graph, 1))\n",
    "print(\"Connected components:\", connected_components(graph))\n",
    "print(\"Component sizes:\", component_sizes(graph))\n",
    "print(\"Largest component size:\", largest_component_size(graph))"
   ]
  },
  {
   "cell_type": "markdown",
   "metadata": {},
   "source": [
    "We want to create a function that, given the number of nodes in a graph, will randomly generate edges between nodes. That is, we want to construct a random graph following the Erdős–Rényi model.\n",
    "\n",
    "### Part 1a. \n",
    "Fill out the following function to create an Erdős–Rényi random graph $\\operatorname{G}(n,p)$."
   ]
  },
  {
   "cell_type": "code",
   "execution_count": 13,
   "metadata": {
    "tags": [
     "otter_answer_cell"
    ]
   },
   "outputs": [],
   "source": [
    "def G_ER(n: int, p: float) -> Graph:\n",
    "    \"\"\"\n",
    "    Create a random graph G(n, p).\n",
    "    Consider using `graph.add_edge()` and `np.random.rand()`.\n",
    "    \"\"\"\n",
    "    graph = Graph(n)\n",
    "    for u, v in itertools.combinations(graph.vertices, 2):\n",
    "        if np.random.rand() < p: graph.add_edge(u, v)\n",
    "    return graph"
   ]
  },
  {
   "cell_type": "markdown",
   "metadata": {
    "deletable": false,
    "editable": false
   },
   "source": [
    "Make sure you can see all nodes from 0 to 9 in the graph below -- if not, check your code!"
   ]
  },
  {
   "cell_type": "code",
   "execution_count": 26,
   "metadata": {
    "deletable": false,
    "editable": false
   },
   "outputs": [
    {
     "data": {
      "image/png": "[encoded data removed]",
      "text/plain": [
       "<Figure size 640x480 with 1 Axes>"
      ]
     },
     "metadata": {},
     "output_type": "display_data"
    }
   ],
   "source": [
    "graph = G_ER(10, 0.25)\n",
    "draw_graph(graph)"
   ]
  },
  {
   "cell_type": "code",
   "execution_count": 15,
   "metadata": {
    "deletable": false,
    "editable": false
   },
   "outputs": [
    {
     "data": {
      "text/html": [
       "<p><strong><pre style='display: inline;'>1a</pre></strong> passed! 🌟</p>"
      ],
      "text/plain": [
       "1a results: All test cases passed!"
      ]
     },
     "execution_count": 15,
     "metadata": {},
     "output_type": "execute_result"
    }
   ],
   "source": [
    "grader.check(\"1a\")"
   ]
  },
  {
   "cell_type": "markdown",
   "metadata": {},
   "source": [
    "Now, let's run a few experiments to examine the properties of an Erdős - Rényi random graph.\n",
    "\n",
    "#### Part 1b.\n",
    "\n",
    "First, for each value of p below, generate 100 ER graphs with $n = 100$ vertices, and find the empirical probability of an ER graph being fully connected. \n",
    "\n",
    "Then, generate a plot comparing the value of p to the empirical probability of a graph being fully connected. We recommend using a log scale for the x-axis."
   ]
  },
  {
   "cell_type": "code",
   "execution_count": null,
   "metadata": {
    "tags": [
     "otter_answer_cell"
    ]
   },
   "outputs": [
    {
     "data": {
      "image/png": "[encoded data removed]",
      "text/plain": [
       "<Figure size 640x480 with 1 Axes>"
      ]
     },
     "metadata": {},
     "output_type": "display_data"
    }
   ],
   "source": [
    "import math\n",
    "\n",
    "p_vals = [0.9**i for i in range(15, 55)]\n",
    "num_trials = 100 # Try 100 for better accuracy\n",
    "n = 100\n",
    "\n",
    "def prob_fully_connected(n: int, p: float, num_trials: int) -> float:\n",
    "    successes = 0\n",
    "    for _ in range(num_trials):\n",
    "        g = G_ER(n, p)\n",
    "        if largest_component_size(g) == n:\n",
    "            successes += 1\n",
    "    return successes / num_trials\n",
    "\n",
    "empirical_probs = []\n",
    "\"\"\"Please store your empirical probabilities in the list empirical_probs, otherwise the tests will fail!\"\"\"\n",
    "for p in p_vals:\n",
    "    empirical_probs.append(prob_fully_connected(n, p, num_trials))  \n",
    "\n",
    "assert len(empirical_probs) == len(p_vals)\n",
    "\n",
    "# Plot the empirical probabilities against values of p. We recommend using a log scale for the x-axis.\n",
    "# In addition, plot a vertical line at the threshold where the graph is connected with high probability\n",
    "# (you will use this for the next problem).\n",
    "\n",
    "# Enter your code here. \n",
    "plt.plot(p_vals, empirical_probs)\n",
    "thresh = math.log(n)/n\n",
    "plt.axvline(x=thresh)\n",
    "plt.xscale('log')\n",
    "plt.show()"
   ]
  },
  {
   "cell_type": "code",
   "execution_count": 34,
   "metadata": {
    "deletable": false,
    "editable": false
   },
   "outputs": [
    {
     "data": {
      "text/html": [
       "<p><strong><pre style='display: inline;'>1b</pre></strong> passed! 🎉</p>"
      ],
      "text/plain": [
       "1b results: All test cases passed!"
      ]
     },
     "execution_count": 34,
     "metadata": {},
     "output_type": "execute_result"
    }
   ],
   "source": [
    "grader.check(\"1b\")"
   ]
  },
  {
   "cell_type": "markdown",
   "metadata": {},
   "source": [
    "#### What is the threshold in which with high probability, the graph is connected? In your graph above, draw a vertical line at the threshold.\n",
    "\n",
    "Hint: Look at the graph and plot the curve in the graph."
   ]
  },
  {
   "cell_type": "code",
   "execution_count": null,
   "metadata": {
    "tags": [
     "otter_answer_cell"
    ]
   },
   "outputs": [],
   "source": [
    "def connectivity_threshold(n: int) -> float:\n",
    "    \"\"\"\n",
    "    Returns the connectivity threshold for a random graph with n vertices.\n",
    "    \"\"\"\n",
    "    ...\n",
    "\n",
    "# Fill in the empirical threshold that you've calculated here, given n = 100 vertices. Format as 4 decimals, ex: 0.1234\n",
    "empirical_connectivity_threshold = ..."
   ]
  },
  {
   "cell_type": "code",
   "execution_count": null,
   "metadata": {
    "deletable": false,
    "editable": false
   },
   "outputs": [],
   "source": [
    "grader.check(\"1b-thresh\")"
   ]
  },
  {
   "cell_type": "markdown",
   "metadata": {},
   "source": [
    "#### Part 1c.\n",
    "Now, for each value of $p$ below, generate 100 ER graphs with n=100 vertices, and find the empirical probability of an ER graph having no connected components of size larger than $\\log(n)$. \n",
    "\n",
    "Then, plot the empirical probabilities against values of $p$. We recommend using a log scale for the x-axis."
   ]
  },
  {
   "cell_type": "code",
   "execution_count": null,
   "metadata": {
    "tags": [
     "otter_answer_cell"
    ]
   },
   "outputs": [],
   "source": [
    "p_vals = [0.9**i for i in range(20, 65)]\n",
    "num_trials = 100\n",
    "n = 100\n",
    "logn = np.log2(n)\n",
    "\n",
    "def prob_no_large_component(n: int, p: float, num_trials: int) -> float:\n",
    "    ...\n",
    "\n",
    "empirical_probs = []\n",
    "\"\"\"Please store your empirical probabilities in the list empirical_probs, otherwise the tests will fail!\"\"\"\n",
    "for p in p_vals:\n",
    "    empirical_probs.append(prob_no_large_component(n, p, num_trials))\n",
    "\n",
    "assert len(empirical_probs) == len(p_vals)\n",
    "\n",
    "# Plot the empirical probabilities against values of p. We recommend using a log scale for the x-axis.\n",
    "..."
   ]
  },
  {
   "cell_type": "code",
   "execution_count": null,
   "metadata": {
    "deletable": false,
    "editable": false
   },
   "outputs": [],
   "source": [
    "grader.check(\"1c\")"
   ]
  },
  {
   "cell_type": "markdown",
   "metadata": {},
   "source": [
    "#### From your graph, what is the threshold in which with high probability, the graph has no connected components of size larger than $\\operatorname{O}(\\log(n))$? Draw a vertical line at the threshold.\n",
    "\n",
    "Hint: Take a look at the value of n*p, plot the curve in the graph to check! "
   ]
  },
  {
   "cell_type": "code",
   "execution_count": null,
   "metadata": {
    "tags": [
     "otter_answer_cell"
    ]
   },
   "outputs": [],
   "source": [
    "def large_cc_threshold(n: int) -> float:\n",
    "    \"\"\"\n",
    "    Returns the connectivity threshold for a random graph with n vertices.\n",
    "    \"\"\"\n",
    "    ...\n",
    "\n",
    "empirical_large_cc_threshold = ..."
   ]
  },
  {
   "cell_type": "code",
   "execution_count": null,
   "metadata": {
    "deletable": false,
    "editable": false
   },
   "outputs": [],
   "source": [
    "grader.check(\"1c-thresh\")"
   ]
  },
  {
   "cell_type": "markdown",
   "metadata": {},
   "source": [
    "Cool! Now we've experimentally verified several results of the Erdős–Rényi graph. \n",
    "\n",
    "Isn't it neat that you can rigorously formalize this kind of qualitative behavior of a graph, and then clearly see them in simulation? "
   ]
  },
  {
   "cell_type": "markdown",
   "metadata": {},
   "source": [
    "## Question 2 -- The Stochastic Block Model\n"
   ]
  },
  {
   "cell_type": "markdown",
   "metadata": {},
   "source": [
    "So far we've discussed the Erdős–Rényi model of a random graph $G(n,p)$. There are extensions that are better, more realistic models in many situations.\n",
    "\n",
    "As a motivating example, consider the graph formed by friendships of Berkeley students and Stanford students on Facebook.  The probability of a friendship between two students both attending UC Berkeley is much higher than the probability that a student from UC Berkeley is friends with a student from Stanford. In the Erdos-Renyi model, however, the two edges formed by these friendships have the same probability!\n",
    "\n",
    "In this section, we will explore communities such as the following:\n",
    "\n",
    "<!-- <img src=\"https://data.graphstream-project.org/talks/CSSS2012/media/Community_Structure2.jpg\" width=300 /> -->\n",
    "<img src=\"images/community_structure_visualization.jpeg\" width=300>"
   ]
  },
  {
   "cell_type": "markdown",
   "metadata": {},
   "source": [
    "How will we do this? Use the <b>stochastic block model</b> (let's call it SBM) -- we have graphs of $G(n,p,q)$ (for simplicity, let's assume $n$ is even and $p>q$). \n",
    "\n",
    "In this model, we have two \"communities\" each of size $\\frac{n}{2}$ such that the probability of an edge existing between any two nodes within a community is $p$ and the probability of an edge between the two communities is $q$.\n",
    "\n",
    "<!-- <img src=\"http://i.imgur.com/JAPqQNf.png\" width=\"400\" height=\"400\" /> -->\n",
    "<img src=\"images/sbm_before_recovery.png\" width=\"450\">"
   ]
  },
  {
   "cell_type": "markdown",
   "metadata": {},
   "source": [
    "Our goal will be to recover the original communities. For this example, the result would look something like:\n",
    "\n",
    "<!-- <img src=\"http://i.imgur.com/Ec2Xehs.png\" width=\"450\" height=\"450\" /> -->\n",
    "<img src=\"images/sbm_after_recovery.png\" width=\"450\">\n",
    "\n",
    "Let's begin by defining a function to generate graphs according to the stochastic block model."
   ]
  },
  {
   "cell_type": "markdown",
   "metadata": {},
   "source": [
    "### 2a. Fill out the following function to create a graph $G(n,p,q)$ according to the SBM.\n"
   ]
  },
  {
   "cell_type": "markdown",
   "metadata": {},
   "source": [
    "**Important Note**: make sure that the first $\\frac{n}{2}$ nodes are part of community A and the second $\\frac{n}{2}$ nodes are part of community B.\n",
    "\n",
    "We will be using this assumption for later questions in this lab, when we try to recover the two communities."
   ]
  },
  {
   "cell_type": "code",
   "execution_count": null,
   "metadata": {
    "tags": [
     "otter_answer_cell"
    ]
   },
   "outputs": [],
   "source": [
    "def G_SBM(n: int, p: float, q: float) -> Graph:\n",
    "    \"\"\"\n",
    "    Create a copy of G(n, p, q) with 2 community where the first \n",
    "    n/2 nodes are part of the first community and the second n/2 \n",
    "    nodes are part of second community.\n",
    "\n",
    "    Consider using the provided graph.add_edge() function.\n",
    "    \"\"\"\n",
    "    assert n % 2 == 0\n",
    "    assert p > q\n",
    "    graph = Graph(n)\n",
    "    mid = n // 2\n",
    "    communityA = graph.vertices[:mid]\n",
    "    communityB = graph.vertices[mid:]\n",
    "    for u, v in itertools.combinations(communityA, 2):\n",
    "        ...\n",
    "    for u, v in itertools.combinations(communityB, 2):\n",
    "        ...\n",
    "    for u, v in itertools.product(communityA, communityB): \n",
    "        ...\n",
    "    return graph"
   ]
  },
  {
   "cell_type": "code",
   "execution_count": null,
   "metadata": {
    "tags": [
     "otter_answer_cell"
    ]
   },
   "outputs": [],
   "source": [
    "graph = G_SBM(20, 0.6, 0.05)\n",
    "plt.figure(figsize=(12, 12))\n",
    "draw_graph(graph,graph_layout='spring')"
   ]
  },
  {
   "cell_type": "code",
   "execution_count": null,
   "metadata": {
    "deletable": false,
    "editable": false
   },
   "outputs": [],
   "source": [
    "grader.check(\"2a\")"
   ]
  },
  {
   "cell_type": "markdown",
   "metadata": {},
   "source": [
    "Now recall the previous example:\n",
    "\n",
    "<img src=\"http://i.imgur.com/Ec2Xehs.png\" width=\"450\"/>\n"
   ]
  },
  {
   "cell_type": "markdown",
   "metadata": {},
   "source": [
    "How did we determine the most likely assignment of nodes to communities?\n",
    "\n",
    "An intuitive approach is to find the **min-bisection** -- the split of $G$ into 2 groups each of size $\\frac{n}{2}$ that has the *minimum total edges crossing the partition*. The intuition here is that we want to **minimize** friendships across communities, as under our assumptions, **p > q** so it is more likely to be friends within a community than across. Notice, if we assume that **p < q**, then we would have been interested in the max-bisection.\n",
    "\n",
    "It turns out that this approach is the optimal method of recovering community assignments in terms of maximizing over all possible partitions the probability of seeing the graph $G$ given a community partition. This is called the Maximum Likelihood Estimate (MLE) of the partition given the graph $G$. It is an interesting exercise to prove this which you can try if you would like. You will prove a variant of this result in homework when we go over Maximum Likelihood Estimation and Maximum A Posteriori Estimation."
   ]
  },
  {
   "cell_type": "markdown",
   "metadata": {},
   "source": [
    "### 2b. Given a graph $G(n,p,q)$, write a function to find the maximum likelihood estimate of the two communities."
   ]
  },
  {
   "cell_type": "code",
   "execution_count": null,
   "metadata": {
    "tags": [
     "otter_answer_cell"
    ]
   },
   "outputs": [],
   "source": [
    "def count_crossing_edges(community: Set[Vertex], graph: Graph) -> int:\n",
    "    \"\"\"\n",
    "    Find the number of edges cross the partition between this community \n",
    "    and the rest of the vertices in the graph.\n",
    "    \"\"\"\n",
    "    other = set(graph.vertices).difference(set(community))\n",
    "    num_crossings = 0\n",
    "    ...\n",
    "    return num_crossings\n",
    "\n",
    "def mle(graph: Graph) -> Iterable[Vertex]:\n",
    "    \"\"\"\n",
    "    Tries every possible way to partition the graph into communities of equal\n",
    "    size and returns the partition with the fewest number of edges crossing \n",
    "    between the communites.\n",
    "    \"\"\"\n",
    "    possible_comms = set(\n",
    "        itertools.combinations(graph.vertices, len(graph.vertices)//2)\n",
    "    )\n",
    "    ..."
   ]
  },
  {
   "cell_type": "markdown",
   "metadata": {
    "deletable": false,
    "editable": false
   },
   "source": [
    "Here's a quick test for your MLE function -- check that the resulting partitions look okay!"
   ]
  },
  {
   "cell_type": "code",
   "execution_count": null,
   "metadata": {
    "deletable": false,
    "editable": false
   },
   "outputs": [],
   "source": [
    "graph = G_SBM(10, 0.6, 0.05)\n",
    "plt.figure(figsize=(8, 8))\n",
    "draw_graph(graph,graph_layout='spring')"
   ]
  },
  {
   "cell_type": "code",
   "execution_count": null,
   "metadata": {
    "deletable": false,
    "editable": false
   },
   "outputs": [],
   "source": [
    "community = mle(graph)\n",
    "print('The community found is the nodes', community)"
   ]
  },
  {
   "cell_type": "code",
   "execution_count": null,
   "metadata": {
    "deletable": false,
    "editable": false
   },
   "outputs": [],
   "source": [
    "grader.check(\"2b\")"
   ]
  },
  {
   "cell_type": "markdown",
   "metadata": {},
   "source": [
    "Now recall that important note from earlier -- in the graphs we generate, the first $\\frac{n}{2}$ nodes are from community A and the second $\\frac{n}{2}$ nodes from community B.\n",
    "\n",
    "We can therefore test whether or not our MLE method accurately recovers these two communities from randomly generated graphs that we generate. In this section we will simulate the probability of exact recovery using MLE."
   ]
  },
  {
   "cell_type": "markdown",
   "metadata": {},
   "source": [
    "### 2c. Write a function to simulate the probability of exact recovery through MLE given $n,p,q$. "
   ]
  },
  {
   "cell_type": "code",
   "execution_count": null,
   "metadata": {
    "tags": [
     "otter_answer_cell"
    ]
   },
   "outputs": [],
   "source": [
    "def prob_recovery(n: int, p: float, q: float) -> float:\n",
    "    \"\"\"\n",
    "    Simulate the probability of exact recovery through MLE.\n",
    "    Use 100 samples.\n",
    "    \"\"\"\n",
    "    ..."
   ]
  },
  {
   "cell_type": "markdown",
   "metadata": {
    "deletable": false,
    "editable": false
   },
   "source": [
    "Here's a few examples to test your simulation:"
   ]
  },
  {
   "cell_type": "code",
   "execution_count": null,
   "metadata": {
    "deletable": false,
    "editable": false
   },
   "outputs": [],
   "source": [
    "print(\"P(recovery) for n=10, p=0.5, q=0.05 --\", prob_recovery(10, 0.5, 0.05)) # usually recovers\n",
    "print(\"P(recovery) for n=10, p=0.92, q=0.06 --\", prob_recovery(10, 0.92, 0.06))  # almost certainly recovers\n",
    "print(\"P(recovery) for n=10, p=0.12, q=0.06 --\", prob_recovery(10, 0.12, 0.06))  # almost certainly fails"
   ]
  },
  {
   "cell_type": "code",
   "execution_count": null,
   "metadata": {
    "deletable": false,
    "editable": false
   },
   "outputs": [],
   "source": [
    "grader.check(\"2c\")"
   ]
  },
  {
   "cell_type": "markdown",
   "metadata": {},
   "source": [
    "### 2d (Optional). Can you find a threshold on $(p, q, n)$ for exact recovery through MLE?"
   ]
  },
  {
   "cell_type": "markdown",
   "metadata": {},
   "source": [
    "It turns out that there is a threshold on $(p,q,n)$ for a phase transition which determines whether or not the communities can be recovered using MLE.\n",
    "\n",
    "This part of the lab is meant to be open-ended. You should use the code you've already written to help arrive at an expression for threshold in the form\n",
    "\n",
    "$$f(p,q,n) > 1$$\n",
    "\n",
    "After this threshold, can almost recover the original communities in the SBM."
   ]
  },
  {
   "cell_type": "markdown",
   "metadata": {},
   "source": [
    "Define the following:\n",
    "$$\\alpha=p\\frac{n}{\\log n}$$\n",
    "$$\\beta=q\\frac{n}{\\log n}$$\n",
    "\n",
    "The threshold for exact recovery occurs at\n",
    "$$\\frac{\\alpha + \\beta}{2} - \\sqrt{\\alpha\\beta} > 1$$\n",
    "\n",
    "Those curious are encouraged to check out the paper [Exact Recovery in the Stochastic Block Model](http://arxiv.org/pdf/1405.3267.pdf) (Abbe, Bandeira, Hall)"
   ]
  },
  {
   "cell_type": "markdown",
   "metadata": {},
   "source": [
    "Congratulations! You've reached the end of the lab."
   ]
  },
  {
   "cell_type": "markdown",
   "metadata": {},
   "source": [
    "## References\n",
    "\n",
    "1. https://www.udacity.com/wiki/creating-network-graphs-with-python"
   ]
  },
  {
   "cell_type": "markdown",
   "metadata": {
    "deletable": false,
    "editable": false
   },
   "source": [
    "## Submission\n",
    "\n",
    "Make sure you have run all cells in your notebook in order before running the cell below, so that all images/graphs appear in the output. The cell below will generate a zip file for you to submit. **Please save before exporting!**\n",
    "\n",
    "We recommend you to direct submit the .ipynb file after you finish the lab. For this lab, no self-grade is required. If this command errors, save and submit this .ipynb file regardless."
   ]
  },
  {
   "cell_type": "code",
   "execution_count": null,
   "metadata": {
    "deletable": false,
    "editable": false
   },
   "outputs": [],
   "source": [
    "# Save your notebook first, then run this cell to export your submission.\n",
    "grader.export(run_tests=True)"
   ]
  },
  {
   "cell_type": "markdown",
   "metadata": {},
   "source": [
    " "
   ]
  }
 ],
 "metadata": {
  "kernelspec": {
   "display_name": "eecs126",
   "language": "python",
   "name": "python3"
  },
  "language_info": {
   "codemirror_mode": {
    "name": "ipython",
    "version": 3
   },
   "file_extension": ".py",
   "mimetype": "text/x-python",
   "name": "python",
   "nbconvert_exporter": "python",
   "pygments_lexer": "ipython3",
   "version": "3.11.11"
  },
  "otter": {
   "OK_FORMAT": false,
   "tests": {
    "1a": "from otter.test_files import test_case\n\nOK_FORMAT = False\n\nname = \"1a\"\npoints = 2\n\n@test_case(points=None, hidden=False)\ndef test_q1a(G_ER):\n    g1 = G_ER(5, 1.0)\n    assert len(g1.vertices) == 5\n    assert len(g1.get_neighbors(0)) == 4\n    g2 = G_ER(5, 0.0)\n    assert len(g2.vertices) == 5\n    assert len(g2.get_neighbors(0)) == 0\n    g3 = G_ER(10, 0.5)\n    for u in g3.vertices:\n        for v in g3.vertices:\n            if u != v:\n                assert (u in g3.get_neighbors(v)) == (v in g3.get_neighbors(u))\n\n",
    "1b": "from otter.test_files import test_case\n\nOK_FORMAT = False\n\nname = \"1b\"\npoints = 2\n\n@test_case(points=None, hidden=False)\ndef test_q1b(prob_fully_connected):\n    p_vals = [0.9 ** i for i in range(15, 55)]\n    n = 100\n    num_trials = 100\n    for i in range(7):\n        assert prob_fully_connected(n, p_vals[i], num_trials) > 0.95\n    for i in range(25, 40):\n        assert prob_fully_connected(n, p_vals[i], num_trials) < 0.05\n\n",
    "1b-thresh": "from otter.test_files import test_case\n\nOK_FORMAT = False\n\nname = \"1b-thresh\"\npoints = 2\n\n@test_case(points=None, hidden=False)\ndef test_q1b_thresh(np, connectivity_threshold, empirical_connectivity_threshold, prob_fully_connected):\n    assert np.isclose(connectivity_threshold(100), empirical_connectivity_threshold, rtol=0.15)\n    p_vals = [0.9 ** i for i in range(15, 55)]\n    n = 100\n    num_trials = 100\n    for p in p_vals:\n        if p < 0.5 * empirical_connectivity_threshold:\n            assert prob_fully_connected(n, p, num_trials) < 0.05\n        if p > 1.5 * empirical_connectivity_threshold:\n            assert prob_fully_connected(n, p, num_trials) > 0.95\n\n",
    "1c": "from otter.test_files import test_case\n\nOK_FORMAT = False\n\nname = \"1c\"\npoints = 2\n\n@test_case(points=None, hidden=False)\ndef test_q1c(prob_no_large_component):\n    n = 100\n    trials = 100\n    p_vals = [0.9 ** i for i in range(20, 65)]\n    for i in range(15):\n        assert prob_no_large_component(n, p_vals[i], trials) < 0.05\n    for i in range(38, 45):\n        assert prob_no_large_component(n, p_vals[i], trials) > 0.95\n\n",
    "1c-thresh": "from otter.test_files import test_case\n\nOK_FORMAT = False\n\nname = \"1c-thresh\"\npoints = 2\n\n@test_case(points=None, hidden=False)\ndef test_q1c_thresh(np, empirical_large_cc_threshold, large_cc_threshold, prob_no_large_component):\n    assert np.isclose(large_cc_threshold(100), empirical_large_cc_threshold, rtol=0.15)\n    p_vals = [0.9 ** i for i in range(15, 55)]\n    n = 100\n    num_trials = 100\n    for p in p_vals:\n        if p < 0.25 * empirical_large_cc_threshold:\n            assert prob_no_large_component(n, p, num_trials) > 0.9\n        if p > 1.5 * empirical_large_cc_threshold:\n            assert prob_no_large_component(n, p, num_trials) < 0.05\n\n",
    "2a": "from otter.test_files import test_case\n\nOK_FORMAT = False\n\nname = \"2a\"\npoints = 2\n\n@test_case(points=None, hidden=False)\ndef test_q2(G_SBM):\n    g1 = G_SBM(6, 1.0, 0.99999)\n    assert len(g1.vertices) == 6\n    assert all((len(g1.get_neighbors(v)) == 5 for v in g1.vertices))\n    g2 = G_SBM(6, 1.0, 0.0)\n    assert len(g2.vertices) == 6\n    mid = len(g2.vertices) // 2\n    communityA = g2.vertices[:mid]\n    communityB = g2.vertices[mid:]\n    assert all((set(g2.get_neighbors(v)) == set(communityA) - {v} for v in communityA))\n    assert all((set(g2.get_neighbors(v)) == set(communityB) - {v} for v in communityB))\n    g3 = G_SBM(10, 0.6, 0.4)\n    for u in g3.vertices:\n        for v in g3.vertices:\n            if u != v:\n                assert (u in g3.get_neighbors(v)) == (v in g3.get_neighbors(u))\n\n",
    "2b": "from otter.test_files import test_case\n\nOK_FORMAT = False\n\nname = \"2b\"\npoints = 2\n\n@test_case(points=None, hidden=False)\ndef test_q2b(G_SBM, mle, count_crossing_edges):\n    g2 = G_SBM(6, 1.0, 0.0)\n    mid = len(g2.vertices) // 2\n    communityA = g2.vertices[:mid]\n    communityB = g2.vertices[mid:]\n    community2 = mle(g2)\n    assert set(community2) == set(communityA) or set(community2) == set(communityB)\n    assert count_crossing_edges(communityA, g2) == 0\n    avg_crossings = 0\n    n_trials = 100\n    buffer = 5\n    for _ in range(n_trials):\n        g3 = G_SBM(10, 0.6, 0.4)\n        community3 = mle(g3)\n        avg_crossings += count_crossing_edges(community3, g3)\n    avg_crossings /= n_trials\n    assert 5 * 5 * 0.6 * 0.4 - buffer < avg_crossings < 5 * 5 * 0.6 * 0.4 + buffer\n\n",
    "2c": "from otter.test_files import test_case\n\nOK_FORMAT = False\n\nname = \"2c\"\npoints = 2\n\n@test_case(points=None, hidden=False)\ndef test_q2c(prob_recovery):\n    import random\n    n_tests = 10\n    for _ in range(n_tests):\n        p = random.uniform(0.85, 0.99)\n        q = random.uniform(0.01, 0.2)\n        rec_prob = prob_recovery(10, p, q)\n        assert rec_prob > 0.85\n    for _ in range(n_tests):\n        p = random.uniform(0.1, 0.15)\n        q = random.uniform(0.06, p)\n        rec_prob = prob_recovery(10, p, q)\n        assert rec_prob < 0.15\n\n"
   }
  }
 },
 "nbformat": 4,
 "nbformat_minor": 4
}
