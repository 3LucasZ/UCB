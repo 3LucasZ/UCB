{
 "cells": [
  {
   "cell_type": "code",
   "execution_count": 1,
   "metadata": {
    "deletable": false,
    "editable": false
   },
   "outputs": [],
   "source": [
    "# Initialize Otter\n",
    "import otter\n",
    "grader = otter.Notebook(\"programming.ipynb\")"
   ]
  },
  {
   "cell_type": "markdown",
   "metadata": {},
   "source": [
    "# Programming for Probability\n",
    "\n",
    "## Authors:\n",
    "v1.0 (Spring 2020) William Gan, Aditya Sengupta, Christina Zhang, Sasha Khazatsky, Kannan Ramchandran\n",
    "\n",
    "v1.1 (Spring 2023) Andy Dong, Thomas Courtade\n",
    "\n",
    "v1.2 (Spring 2024) Tianhao Wu\n",
    "\n",
    "v1.3 (Spring 2025) Lance Mathias"
   ]
  },
  {
   "cell_type": "markdown",
   "metadata": {},
   "source": [
    "## Introduction\n",
    "\n",
    "What is the probability that a 5 card hand in poker is a flush? What is the expected number of times you have to flip a coin until you see three heads in a row? What is the optimal way to play blackjack at a casino?\n",
    "\n",
    "In EECS 126, we teach you techniques to answer these questions with just pencil and paper. However, in the real world, it can be useful to simply use computers to calculate or approximate these answers. In this lab, we give an overview of various techniques to do so and give you some practice."
   ]
  },
  {
   "cell_type": "code",
   "execution_count": 2,
   "metadata": {},
   "outputs": [
    {
     "name": "stdout",
     "output_type": "stream",
     "text": [
      "Requirement already satisfied: matplotlib in /opt/anaconda3/envs/eecs126/lib/python3.11/site-packages (from -r requirements.txt (line 1)) (3.10.0)\n",
      "Requirement already satisfied: numpy in /opt/anaconda3/envs/eecs126/lib/python3.11/site-packages (from -r requirements.txt (line 2)) (2.2.2)\n",
      "Collecting otter-grader==6.1.0 (from -r requirements.txt (line 3))\n",
      "  Downloading otter_grader-6.1.0-py3-none-any.whl.metadata (3.9 kB)\n",
      "Requirement already satisfied: click<9.0.0,>=8.1.7 in /opt/anaconda3/envs/eecs126/lib/python3.11/site-packages (from otter-grader==6.1.0->-r requirements.txt (line 3)) (8.1.8)\n",
      "Requirement already satisfied: dill>=0.3.0 in /opt/anaconda3/envs/eecs126/lib/python3.11/site-packages (from otter-grader==6.1.0->-r requirements.txt (line 3)) (0.3.9)\n",
      "Requirement already satisfied: fica>=0.4.1 in /opt/anaconda3/envs/eecs126/lib/python3.11/site-packages (from otter-grader==6.1.0->-r requirements.txt (line 3)) (0.4.1)\n",
      "Requirement already satisfied: ipylab<2.0.0,>=1.0.0 in /opt/anaconda3/envs/eecs126/lib/python3.11/site-packages (from otter-grader==6.1.0->-r requirements.txt (line 3)) (1.0.0)\n",
      "Requirement already satisfied: ipython in /opt/anaconda3/envs/eecs126/lib/python3.11/site-packages (from otter-grader==6.1.0->-r requirements.txt (line 3)) (8.30.0)\n",
      "Requirement already satisfied: ipywidgets<9.0.0,>=8.1.5 in /opt/anaconda3/envs/eecs126/lib/python3.11/site-packages (from otter-grader==6.1.0->-r requirements.txt (line 3)) (8.1.5)\n",
      "Requirement already satisfied: jinja2<4.0,>=3.1 in /opt/anaconda3/envs/eecs126/lib/python3.11/site-packages (from otter-grader==6.1.0->-r requirements.txt (line 3)) (3.1.5)\n",
      "Requirement already satisfied: jupytext<2.0.0,>=1.16.4 in /opt/anaconda3/envs/eecs126/lib/python3.11/site-packages (from otter-grader==6.1.0->-r requirements.txt (line 3)) (1.16.6)\n",
      "Requirement already satisfied: nbconvert>=6.0.0 in /opt/anaconda3/envs/eecs126/lib/python3.11/site-packages (from nbconvert[webpdf]>=6.0.0; sys_platform != \"emscripten\" and sys_platform != \"wasi\"->otter-grader==6.1.0->-r requirements.txt (line 3)) (7.16.4)\n",
      "Requirement already satisfied: nbformat>=5.0.0 in /opt/anaconda3/envs/eecs126/lib/python3.11/site-packages (from otter-grader==6.1.0->-r requirements.txt (line 3)) (5.10.4)\n",
      "Requirement already satisfied: pandas>=2.0.0 in /opt/anaconda3/envs/eecs126/lib/python3.11/site-packages (from otter-grader==6.1.0->-r requirements.txt (line 3)) (2.2.3)\n",
      "Requirement already satisfied: python-on-whales<1.0.0,>=0.72.0 in /opt/anaconda3/envs/eecs126/lib/python3.11/site-packages (from otter-grader==6.1.0->-r requirements.txt (line 3)) (0.75.1)\n",
      "Requirement already satisfied: pyyaml<7,>=6 in /opt/anaconda3/envs/eecs126/lib/python3.11/site-packages (from otter-grader==6.1.0->-r requirements.txt (line 3)) (6.0.2)\n",
      "Requirement already satisfied: requests<3.0,>=2.31 in /opt/anaconda3/envs/eecs126/lib/python3.11/site-packages (from otter-grader==6.1.0->-r requirements.txt (line 3)) (2.32.3)\n",
      "Requirement already satisfied: wrapt<2.0.0,>=1.16.0 in /opt/anaconda3/envs/eecs126/lib/python3.11/site-packages (from otter-grader==6.1.0->-r requirements.txt (line 3)) (1.17.2)\n",
      "Requirement already satisfied: contourpy>=1.0.1 in /opt/anaconda3/envs/eecs126/lib/python3.11/site-packages (from matplotlib->-r requirements.txt (line 1)) (1.3.1)\n",
      "Requirement already satisfied: cycler>=0.10 in /opt/anaconda3/envs/eecs126/lib/python3.11/site-packages (from matplotlib->-r requirements.txt (line 1)) (0.12.1)\n",
      "Requirement already satisfied: fonttools>=4.22.0 in /opt/anaconda3/envs/eecs126/lib/python3.11/site-packages (from matplotlib->-r requirements.txt (line 1)) (4.55.8)\n",
      "Requirement already satisfied: kiwisolver>=1.3.1 in /opt/anaconda3/envs/eecs126/lib/python3.11/site-packages (from matplotlib->-r requirements.txt (line 1)) (1.4.8)\n",
      "Requirement already satisfied: packaging>=20.0 in /opt/anaconda3/envs/eecs126/lib/python3.11/site-packages (from matplotlib->-r requirements.txt (line 1)) (24.2)\n",
      "Requirement already satisfied: pillow>=8 in /opt/anaconda3/envs/eecs126/lib/python3.11/site-packages (from matplotlib->-r requirements.txt (line 1)) (11.1.0)\n",
      "Requirement already satisfied: pyparsing>=2.3.1 in /opt/anaconda3/envs/eecs126/lib/python3.11/site-packages (from matplotlib->-r requirements.txt (line 1)) (3.2.1)\n",
      "Requirement already satisfied: python-dateutil>=2.7 in /opt/anaconda3/envs/eecs126/lib/python3.11/site-packages (from matplotlib->-r requirements.txt (line 1)) (2.9.0.post0)\n",
      "Requirement already satisfied: docutils in /opt/anaconda3/envs/eecs126/lib/python3.11/site-packages (from fica>=0.4.1->otter-grader==6.1.0->-r requirements.txt (line 3)) (0.21.2)\n",
      "Requirement already satisfied: sphinx in /opt/anaconda3/envs/eecs126/lib/python3.11/site-packages (from fica>=0.4.1->otter-grader==6.1.0->-r requirements.txt (line 3)) (8.1.3)\n",
      "Requirement already satisfied: comm>=0.1.3 in /opt/anaconda3/envs/eecs126/lib/python3.11/site-packages (from ipywidgets<9.0.0,>=8.1.5->otter-grader==6.1.0->-r requirements.txt (line 3)) (0.2.1)\n",
      "Requirement already satisfied: traitlets>=4.3.1 in /opt/anaconda3/envs/eecs126/lib/python3.11/site-packages (from ipywidgets<9.0.0,>=8.1.5->otter-grader==6.1.0->-r requirements.txt (line 3)) (5.14.3)\n",
      "Requirement already satisfied: widgetsnbextension~=4.0.12 in /opt/anaconda3/envs/eecs126/lib/python3.11/site-packages (from ipywidgets<9.0.0,>=8.1.5->otter-grader==6.1.0->-r requirements.txt (line 3)) (4.0.13)\n",
      "Requirement already satisfied: jupyterlab-widgets~=3.0.12 in /opt/anaconda3/envs/eecs126/lib/python3.11/site-packages (from ipywidgets<9.0.0,>=8.1.5->otter-grader==6.1.0->-r requirements.txt (line 3)) (3.0.13)\n",
      "Requirement already satisfied: decorator in /opt/anaconda3/envs/eecs126/lib/python3.11/site-packages (from ipython->otter-grader==6.1.0->-r requirements.txt (line 3)) (5.1.1)\n",
      "Requirement already satisfied: jedi>=0.16 in /opt/anaconda3/envs/eecs126/lib/python3.11/site-packages (from ipython->otter-grader==6.1.0->-r requirements.txt (line 3)) (0.19.2)\n",
      "Requirement already satisfied: matplotlib-inline in /opt/anaconda3/envs/eecs126/lib/python3.11/site-packages (from ipython->otter-grader==6.1.0->-r requirements.txt (line 3)) (0.1.6)\n",
      "Requirement already satisfied: prompt-toolkit<3.1.0,>=3.0.41 in /opt/anaconda3/envs/eecs126/lib/python3.11/site-packages (from ipython->otter-grader==6.1.0->-r requirements.txt (line 3)) (3.0.43)\n",
      "Requirement already satisfied: pygments>=2.4.0 in /opt/anaconda3/envs/eecs126/lib/python3.11/site-packages (from ipython->otter-grader==6.1.0->-r requirements.txt (line 3)) (2.19.1)\n",
      "Requirement already satisfied: stack-data in /opt/anaconda3/envs/eecs126/lib/python3.11/site-packages (from ipython->otter-grader==6.1.0->-r requirements.txt (line 3)) (0.2.0)\n",
      "Requirement already satisfied: typing-extensions>=4.6 in /opt/anaconda3/envs/eecs126/lib/python3.11/site-packages (from ipython->otter-grader==6.1.0->-r requirements.txt (line 3)) (4.12.2)\n",
      "Requirement already satisfied: pexpect>4.3 in /opt/anaconda3/envs/eecs126/lib/python3.11/site-packages (from ipython->otter-grader==6.1.0->-r requirements.txt (line 3)) (4.8.0)\n",
      "Requirement already satisfied: MarkupSafe>=2.0 in /opt/anaconda3/envs/eecs126/lib/python3.11/site-packages (from jinja2<4.0,>=3.1->otter-grader==6.1.0->-r requirements.txt (line 3)) (3.0.2)\n",
      "Requirement already satisfied: markdown-it-py>=1.0 in /opt/anaconda3/envs/eecs126/lib/python3.11/site-packages (from jupytext<2.0.0,>=1.16.4->otter-grader==6.1.0->-r requirements.txt (line 3)) (3.0.0)\n",
      "Requirement already satisfied: mdit-py-plugins in /opt/anaconda3/envs/eecs126/lib/python3.11/site-packages (from jupytext<2.0.0,>=1.16.4->otter-grader==6.1.0->-r requirements.txt (line 3)) (0.4.2)\n",
      "Requirement already satisfied: beautifulsoup4 in /opt/anaconda3/envs/eecs126/lib/python3.11/site-packages (from nbconvert>=6.0.0->nbconvert[webpdf]>=6.0.0; sys_platform != \"emscripten\" and sys_platform != \"wasi\"->otter-grader==6.1.0->-r requirements.txt (line 3)) (4.12.3)\n",
      "Requirement already satisfied: bleach!=5.0.0 in /opt/anaconda3/envs/eecs126/lib/python3.11/site-packages (from nbconvert>=6.0.0->nbconvert[webpdf]>=6.0.0; sys_platform != \"emscripten\" and sys_platform != \"wasi\"->otter-grader==6.1.0->-r requirements.txt (line 3)) (6.2.0)\n",
      "Requirement already satisfied: defusedxml in /opt/anaconda3/envs/eecs126/lib/python3.11/site-packages (from nbconvert>=6.0.0->nbconvert[webpdf]>=6.0.0; sys_platform != \"emscripten\" and sys_platform != \"wasi\"->otter-grader==6.1.0->-r requirements.txt (line 3)) (0.7.1)\n",
      "Requirement already satisfied: jupyter-core>=4.7 in /opt/anaconda3/envs/eecs126/lib/python3.11/site-packages (from nbconvert>=6.0.0->nbconvert[webpdf]>=6.0.0; sys_platform != \"emscripten\" and sys_platform != \"wasi\"->otter-grader==6.1.0->-r requirements.txt (line 3)) (5.7.2)\n",
      "Requirement already satisfied: jupyterlab-pygments in /opt/anaconda3/envs/eecs126/lib/python3.11/site-packages (from nbconvert>=6.0.0->nbconvert[webpdf]>=6.0.0; sys_platform != \"emscripten\" and sys_platform != \"wasi\"->otter-grader==6.1.0->-r requirements.txt (line 3)) (0.1.2)\n",
      "Requirement already satisfied: mistune<4,>=2.0.3 in /opt/anaconda3/envs/eecs126/lib/python3.11/site-packages (from nbconvert>=6.0.0->nbconvert[webpdf]>=6.0.0; sys_platform != \"emscripten\" and sys_platform != \"wasi\"->otter-grader==6.1.0->-r requirements.txt (line 3)) (2.0.4)\n",
      "Requirement already satisfied: nbclient>=0.5.0 in /opt/anaconda3/envs/eecs126/lib/python3.11/site-packages (from nbconvert>=6.0.0->nbconvert[webpdf]>=6.0.0; sys_platform != \"emscripten\" and sys_platform != \"wasi\"->otter-grader==6.1.0->-r requirements.txt (line 3)) (0.8.0)\n",
      "Requirement already satisfied: pandocfilters>=1.4.1 in /opt/anaconda3/envs/eecs126/lib/python3.11/site-packages (from nbconvert>=6.0.0->nbconvert[webpdf]>=6.0.0; sys_platform != \"emscripten\" and sys_platform != \"wasi\"->otter-grader==6.1.0->-r requirements.txt (line 3)) (1.5.0)\n",
      "Requirement already satisfied: tinycss2 in /opt/anaconda3/envs/eecs126/lib/python3.11/site-packages (from nbconvert>=6.0.0->nbconvert[webpdf]>=6.0.0; sys_platform != \"emscripten\" and sys_platform != \"wasi\"->otter-grader==6.1.0->-r requirements.txt (line 3)) (1.4.0)\n",
      "Collecting playwright (from nbconvert[webpdf]>=6.0.0; sys_platform != \"emscripten\" and sys_platform != \"wasi\"->otter-grader==6.1.0->-r requirements.txt (line 3))\n",
      "  Downloading playwright-1.50.0-py3-none-macosx_11_0_arm64.whl.metadata (3.5 kB)\n",
      "Requirement already satisfied: fastjsonschema>=2.15 in /opt/anaconda3/envs/eecs126/lib/python3.11/site-packages (from nbformat>=5.0.0->otter-grader==6.1.0->-r requirements.txt (line 3)) (2.20.0)\n",
      "Requirement already satisfied: jsonschema>=2.6 in /opt/anaconda3/envs/eecs126/lib/python3.11/site-packages (from nbformat>=5.0.0->otter-grader==6.1.0->-r requirements.txt (line 3)) (4.23.0)\n",
      "Requirement already satisfied: pytz>=2020.1 in /opt/anaconda3/envs/eecs126/lib/python3.11/site-packages (from pandas>=2.0.0->otter-grader==6.1.0->-r requirements.txt (line 3)) (2025.1)\n",
      "Requirement already satisfied: tzdata>=2022.7 in /opt/anaconda3/envs/eecs126/lib/python3.11/site-packages (from pandas>=2.0.0->otter-grader==6.1.0->-r requirements.txt (line 3)) (2025.1)\n",
      "Requirement already satisfied: six>=1.5 in /opt/anaconda3/envs/eecs126/lib/python3.11/site-packages (from python-dateutil>=2.7->matplotlib->-r requirements.txt (line 1)) (1.16.0)\n",
      "Requirement already satisfied: pydantic!=2.0.*,<3,>=2 in /opt/anaconda3/envs/eecs126/lib/python3.11/site-packages (from python-on-whales<1.0.0,>=0.72.0->otter-grader==6.1.0->-r requirements.txt (line 3)) (2.10.6)\n",
      "Requirement already satisfied: charset-normalizer<4,>=2 in /opt/anaconda3/envs/eecs126/lib/python3.11/site-packages (from requests<3.0,>=2.31->otter-grader==6.1.0->-r requirements.txt (line 3)) (3.3.2)\n",
      "Requirement already satisfied: idna<4,>=2.5 in /opt/anaconda3/envs/eecs126/lib/python3.11/site-packages (from requests<3.0,>=2.31->otter-grader==6.1.0->-r requirements.txt (line 3)) (3.7)\n",
      "Requirement already satisfied: urllib3<3,>=1.21.1 in /opt/anaconda3/envs/eecs126/lib/python3.11/site-packages (from requests<3.0,>=2.31->otter-grader==6.1.0->-r requirements.txt (line 3)) (2.3.0)\n",
      "Requirement already satisfied: certifi>=2017.4.17 in /opt/anaconda3/envs/eecs126/lib/python3.11/site-packages (from requests<3.0,>=2.31->otter-grader==6.1.0->-r requirements.txt (line 3)) (2025.1.31)\n",
      "Requirement already satisfied: webencodings in /opt/anaconda3/envs/eecs126/lib/python3.11/site-packages (from bleach!=5.0.0->nbconvert>=6.0.0->nbconvert[webpdf]>=6.0.0; sys_platform != \"emscripten\" and sys_platform != \"wasi\"->otter-grader==6.1.0->-r requirements.txt (line 3)) (0.5.1)\n",
      "Requirement already satisfied: parso<0.9.0,>=0.8.4 in /opt/anaconda3/envs/eecs126/lib/python3.11/site-packages (from jedi>=0.16->ipython->otter-grader==6.1.0->-r requirements.txt (line 3)) (0.8.4)\n",
      "Requirement already satisfied: attrs>=22.2.0 in /opt/anaconda3/envs/eecs126/lib/python3.11/site-packages (from jsonschema>=2.6->nbformat>=5.0.0->otter-grader==6.1.0->-r requirements.txt (line 3)) (24.3.0)\n",
      "Requirement already satisfied: jsonschema-specifications>=2023.03.6 in /opt/anaconda3/envs/eecs126/lib/python3.11/site-packages (from jsonschema>=2.6->nbformat>=5.0.0->otter-grader==6.1.0->-r requirements.txt (line 3)) (2023.7.1)\n",
      "Requirement already satisfied: referencing>=0.28.4 in /opt/anaconda3/envs/eecs126/lib/python3.11/site-packages (from jsonschema>=2.6->nbformat>=5.0.0->otter-grader==6.1.0->-r requirements.txt (line 3)) (0.30.2)\n",
      "Requirement already satisfied: rpds-py>=0.7.1 in /opt/anaconda3/envs/eecs126/lib/python3.11/site-packages (from jsonschema>=2.6->nbformat>=5.0.0->otter-grader==6.1.0->-r requirements.txt (line 3)) (0.22.3)\n",
      "Requirement already satisfied: platformdirs>=2.5 in /opt/anaconda3/envs/eecs126/lib/python3.11/site-packages (from jupyter-core>=4.7->nbconvert>=6.0.0->nbconvert[webpdf]>=6.0.0; sys_platform != \"emscripten\" and sys_platform != \"wasi\"->otter-grader==6.1.0->-r requirements.txt (line 3)) (3.10.0)\n",
      "Requirement already satisfied: mdurl~=0.1 in /opt/anaconda3/envs/eecs126/lib/python3.11/site-packages (from markdown-it-py>=1.0->jupytext<2.0.0,>=1.16.4->otter-grader==6.1.0->-r requirements.txt (line 3)) (0.1.2)\n",
      "Requirement already satisfied: jupyter-client>=6.1.12 in /opt/anaconda3/envs/eecs126/lib/python3.11/site-packages (from nbclient>=0.5.0->nbconvert>=6.0.0->nbconvert[webpdf]>=6.0.0; sys_platform != \"emscripten\" and sys_platform != \"wasi\"->otter-grader==6.1.0->-r requirements.txt (line 3)) (8.6.3)\n",
      "Requirement already satisfied: ptyprocess>=0.5 in /opt/anaconda3/envs/eecs126/lib/python3.11/site-packages (from pexpect>4.3->ipython->otter-grader==6.1.0->-r requirements.txt (line 3)) (0.7.0)\n",
      "Requirement already satisfied: wcwidth in /opt/anaconda3/envs/eecs126/lib/python3.11/site-packages (from prompt-toolkit<3.1.0,>=3.0.41->ipython->otter-grader==6.1.0->-r requirements.txt (line 3)) (0.2.5)\n",
      "Requirement already satisfied: annotated-types>=0.6.0 in /opt/anaconda3/envs/eecs126/lib/python3.11/site-packages (from pydantic!=2.0.*,<3,>=2->python-on-whales<1.0.0,>=0.72.0->otter-grader==6.1.0->-r requirements.txt (line 3)) (0.7.0)\n",
      "Requirement already satisfied: pydantic-core==2.27.2 in /opt/anaconda3/envs/eecs126/lib/python3.11/site-packages (from pydantic!=2.0.*,<3,>=2->python-on-whales<1.0.0,>=0.72.0->otter-grader==6.1.0->-r requirements.txt (line 3)) (2.27.2)\n",
      "Requirement already satisfied: soupsieve>1.2 in /opt/anaconda3/envs/eecs126/lib/python3.11/site-packages (from beautifulsoup4->nbconvert>=6.0.0->nbconvert[webpdf]>=6.0.0; sys_platform != \"emscripten\" and sys_platform != \"wasi\"->otter-grader==6.1.0->-r requirements.txt (line 3)) (2.5)\n",
      "Collecting pyee<13,>=12 (from playwright->nbconvert[webpdf]>=6.0.0; sys_platform != \"emscripten\" and sys_platform != \"wasi\"->otter-grader==6.1.0->-r requirements.txt (line 3))\n",
      "  Downloading pyee-12.1.1-py3-none-any.whl.metadata (2.9 kB)\n",
      "Collecting greenlet<4.0.0,>=3.1.1 (from playwright->nbconvert[webpdf]>=6.0.0; sys_platform != \"emscripten\" and sys_platform != \"wasi\"->otter-grader==6.1.0->-r requirements.txt (line 3))\n",
      "  Downloading greenlet-3.1.1-cp311-cp311-macosx_11_0_universal2.whl.metadata (3.8 kB)\n",
      "Requirement already satisfied: sphinxcontrib-applehelp>=1.0.7 in /opt/anaconda3/envs/eecs126/lib/python3.11/site-packages (from sphinx->fica>=0.4.1->otter-grader==6.1.0->-r requirements.txt (line 3)) (2.0.0)\n",
      "Requirement already satisfied: sphinxcontrib-devhelp>=1.0.6 in /opt/anaconda3/envs/eecs126/lib/python3.11/site-packages (from sphinx->fica>=0.4.1->otter-grader==6.1.0->-r requirements.txt (line 3)) (2.0.0)\n",
      "Requirement already satisfied: sphinxcontrib-htmlhelp>=2.0.6 in /opt/anaconda3/envs/eecs126/lib/python3.11/site-packages (from sphinx->fica>=0.4.1->otter-grader==6.1.0->-r requirements.txt (line 3)) (2.1.0)\n",
      "Requirement already satisfied: sphinxcontrib-jsmath>=1.0.1 in /opt/anaconda3/envs/eecs126/lib/python3.11/site-packages (from sphinx->fica>=0.4.1->otter-grader==6.1.0->-r requirements.txt (line 3)) (1.0.1)\n",
      "Requirement already satisfied: sphinxcontrib-qthelp>=1.0.6 in /opt/anaconda3/envs/eecs126/lib/python3.11/site-packages (from sphinx->fica>=0.4.1->otter-grader==6.1.0->-r requirements.txt (line 3)) (2.0.0)\n",
      "Requirement already satisfied: sphinxcontrib-serializinghtml>=1.1.9 in /opt/anaconda3/envs/eecs126/lib/python3.11/site-packages (from sphinx->fica>=0.4.1->otter-grader==6.1.0->-r requirements.txt (line 3)) (2.0.0)\n",
      "Requirement already satisfied: snowballstemmer>=2.2 in /opt/anaconda3/envs/eecs126/lib/python3.11/site-packages (from sphinx->fica>=0.4.1->otter-grader==6.1.0->-r requirements.txt (line 3)) (2.2.0)\n",
      "Requirement already satisfied: babel>=2.13 in /opt/anaconda3/envs/eecs126/lib/python3.11/site-packages (from sphinx->fica>=0.4.1->otter-grader==6.1.0->-r requirements.txt (line 3)) (2.16.0)\n",
      "Requirement already satisfied: alabaster>=0.7.14 in /opt/anaconda3/envs/eecs126/lib/python3.11/site-packages (from sphinx->fica>=0.4.1->otter-grader==6.1.0->-r requirements.txt (line 3)) (1.0.0)\n",
      "Requirement already satisfied: imagesize>=1.3 in /opt/anaconda3/envs/eecs126/lib/python3.11/site-packages (from sphinx->fica>=0.4.1->otter-grader==6.1.0->-r requirements.txt (line 3)) (1.4.1)\n",
      "Requirement already satisfied: executing in /opt/anaconda3/envs/eecs126/lib/python3.11/site-packages (from stack-data->ipython->otter-grader==6.1.0->-r requirements.txt (line 3)) (0.8.3)\n",
      "Requirement already satisfied: asttokens in /opt/anaconda3/envs/eecs126/lib/python3.11/site-packages (from stack-data->ipython->otter-grader==6.1.0->-r requirements.txt (line 3)) (2.0.5)\n",
      "Requirement already satisfied: pure-eval in /opt/anaconda3/envs/eecs126/lib/python3.11/site-packages (from stack-data->ipython->otter-grader==6.1.0->-r requirements.txt (line 3)) (0.2.2)\n",
      "Requirement already satisfied: pyzmq>=23.0 in /opt/anaconda3/envs/eecs126/lib/python3.11/site-packages (from jupyter-client>=6.1.12->nbclient>=0.5.0->nbconvert>=6.0.0->nbconvert[webpdf]>=6.0.0; sys_platform != \"emscripten\" and sys_platform != \"wasi\"->otter-grader==6.1.0->-r requirements.txt (line 3)) (26.2.0)\n",
      "Requirement already satisfied: tornado>=6.2 in /opt/anaconda3/envs/eecs126/lib/python3.11/site-packages (from jupyter-client>=6.1.12->nbclient>=0.5.0->nbconvert>=6.0.0->nbconvert[webpdf]>=6.0.0; sys_platform != \"emscripten\" and sys_platform != \"wasi\"->otter-grader==6.1.0->-r requirements.txt (line 3)) (6.4.2)\n",
      "Downloading otter_grader-6.1.0-py3-none-any.whl (142 kB)\n",
      "Downloading playwright-1.50.0-py3-none-macosx_11_0_arm64.whl (39.5 MB)\n",
      "\u001b[2K   \u001b[90m━━━━━━━━━━━━━━━━━━━━━━━━━━━━━━━━━━━━━━━━\u001b[0m \u001b[32m39.5/39.5 MB\u001b[0m \u001b[31m27.7 MB/s\u001b[0m eta \u001b[36m0:00:00\u001b[0m00:01\u001b[0m00:01\u001b[0m\n",
      "\u001b[?25hDownloading greenlet-3.1.1-cp311-cp311-macosx_11_0_universal2.whl (272 kB)\n",
      "Downloading pyee-12.1.1-py3-none-any.whl (15 kB)\n",
      "Installing collected packages: pyee, greenlet, playwright, otter-grader\n",
      "  Attempting uninstall: otter-grader\n",
      "    Found existing installation: otter-grader 5.6.0\n",
      "    Uninstalling otter-grader-5.6.0:\n",
      "      Successfully uninstalled otter-grader-5.6.0\n",
      "Successfully installed greenlet-3.1.1 otter-grader-6.1.0 playwright-1.50.0 pyee-12.1.1\n",
      "Note: you may need to restart the kernel to use updated packages.\n"
     ]
    }
   ],
   "source": [
    "# if needed\n",
    "%pip install -r requirements.txt "
   ]
  },
  {
   "cell_type": "code",
   "execution_count": 40,
   "metadata": {},
   "outputs": [],
   "source": [
    "import itertools\n",
    "import numpy as np\n",
    "\n",
    "rng_seed = 0"
   ]
  },
  {
   "cell_type": "markdown",
   "metadata": {},
   "source": [
    "## Q1: Brute Force / Exhaustive Search\n",
    "\n",
    "Sometimes it's possible to iterate through every outcome. For example, to find the probability that a 5 card hand in poker is a flush, maybe we can just iterate over every possible 5 card hand and then see how many are flushes. Since every 5 card hand is equally likely, the probability can be found via simple division."
   ]
  },
  {
   "cell_type": "markdown",
   "metadata": {},
   "source": [
    "**Question: How many 5 card hands are there (exact number)?**\n",
    "\n",
    "$$\\binom{52}{5} = 2598960$$"
   ]
  },
  {
   "cell_type": "markdown",
   "metadata": {},
   "source": [
    "**Fill in the following functions that are used to calculate if a hand is a flush.** A 5-card hand is a flush if all the suits are the same and it is not a straight. A straight consists of 5 consecutive ranks e.g. 8 9 10 J Q. Ranks are not allowed to wrap around (e.g. K A 2 3 4) is not a straight; however, the Ace **is** allowed to be at the front or back. For example, 10 J Q K A and A 2 3 4 5 are both straights."
   ]
  },
  {
   "cell_type": "code",
   "execution_count": 41,
   "metadata": {},
   "outputs": [],
   "source": [
    "RANKS = [2, 3, 4, 5, 6, 7, 8, 9, 10, 'J', 'Q', 'K', 'A']\n",
    "SUITS = ['C', 'D', 'H', 'S']"
   ]
  },
  {
   "cell_type": "code",
   "execution_count": 56,
   "metadata": {
    "tags": []
   },
   "outputs": [],
   "source": [
    "def is_same_suit(hand):\n",
    "    good = hand[0][1]\n",
    "    return all([card[1] == good for card in hand])\n",
    "    \n",
    "def is_consecutive(hand):\n",
    "    _hand = [RANKS.index(card[0]) for card in hand]\n",
    "    _hand.sort()\n",
    "    lo = _hand[0]\n",
    "    for i in range(1, len(_hand)):\n",
    "        if _hand[i] == (_hand[i-1]+1)%len(RANKS):\n",
    "            continue\n",
    "        if _hand[i] == (_hand[i-1]+9)%len(RANKS):\n",
    "            lo = _hand[i]\n",
    "            continue\n",
    "        return False\n",
    "    return lo not in [9, 10, 11]\n",
    "\n",
    "def is_flush(hand):\n",
    "    assert len(hand) == 5\n",
    "    return is_same_suit(hand) and not is_consecutive(hand)"
   ]
  },
  {
   "cell_type": "code",
   "execution_count": 57,
   "metadata": {
    "tags": []
   },
   "outputs": [],
   "source": [
    "def test_is_consecutive():\n",
    "    assert is_consecutive(((8, 'C'), (9, 'D'), (10, 'H'), ('J', 'S'), ('Q', 'C')))\n",
    "    assert not is_consecutive(((8, 'C'), (9, 'D'), (2, 'H'), ('J', 'S'), ('Q', 'C')))\n",
    "    assert is_consecutive(((10, 'C'), ('J', 'C'), ('Q', 'C'), ('K', 'C'), ('A', 'C')))\n",
    "    assert is_consecutive((('A', 'H'), (2, 'H'), (3, 'H'), (4, 'D'), (5, 'C')))\n",
    "    assert not is_consecutive((('K', 'H'), ('A', 'H'), (2, 'H'), (3, 'D'), (4, 'C')))\n",
    "test_is_consecutive()"
   ]
  },
  {
   "cell_type": "markdown",
   "metadata": {},
   "source": [
    "`itertools` is a built-in Python library that provides Python generators for things like permutations and combinations. For example, `itertools.product(RANKS, SUITS)` returns the tuples (2, 'C'), (2, 'D'), ..., ('A', 'S'). **Use it to iterate through every 5 card hand and calculate the probability of a flush.**\n",
    "\n",
    "Hint: Look through the Python documentation to find `itertools.combinations`."
   ]
  },
  {
   "cell_type": "code",
   "execution_count": 58,
   "metadata": {
    "tags": []
   },
   "outputs": [
    {
     "name": "stdout",
     "output_type": "stream",
     "text": [
      "5108 2598960 0.001965401545233478\n"
     ]
    }
   ],
   "source": [
    "deck = itertools.product(RANKS, SUITS)\n",
    "total = 0\n",
    "flushes = 0\n",
    "\n",
    "hands = itertools.combinations(deck, 5)\n",
    "for hand in hands:\n",
    "    total += 1\n",
    "    if is_flush(hand):\n",
    "        flushes += 1\n",
    "\n",
    "result = flushes / total\n",
    "print(flushes, total, result)"
   ]
  },
  {
   "cell_type": "markdown",
   "metadata": {},
   "source": [
    "## Q2: Monte Carlo Simulation\n",
    "\n",
    "Sometimes there are too many outcomes to iterate over. While a single 5-card hand is relatively simple, a multi-player poker game can have billions of outcomes. Even if you were to group some outcomes based on symmetry, there would still be too many. Some problems, like finding how long it takes to see three heads in a row, have an infinite number of outcomes.\n",
    "\n",
    "In these situations, we can still find approximate answers via sampling. For example, to find how long it takes to see three heads in a row, maybe we can just play it out many times and take the average.\n",
    "\n",
    "To run this simulation, we need to be able to generate random events. Python's built-in `random` module allows you to do this, but usually we want to use `np.random`. They have more or less the same functionality, but using NumPy will sometimes have a performance advantage."
   ]
  },
  {
   "cell_type": "markdown",
   "metadata": {},
   "source": [
    "**In the following cell, use Monte Carlo sampling to calculate how many flips are needed to see three heads in a row.**"
   ]
  },
  {
   "cell_type": "code",
   "execution_count": 61,
   "metadata": {
    "tags": []
   },
   "outputs": [],
   "source": [
    "import numpy as np\n",
    "TRIALS = 100000\n",
    "\n",
    "def simulate_flips(TRIALS):\n",
    "    sum = 0\n",
    "    for _ in range(TRIALS):\n",
    "        heads = 0\n",
    "        while heads < 3:\n",
    "            sum += 1\n",
    "            if np.random.rand() < 0.5:\n",
    "                heads += 1\n",
    "            else:\n",
    "                heads = 0\n",
    "    return sum / TRIALS"
   ]
  },
  {
   "cell_type": "code",
   "execution_count": 62,
   "metadata": {
    "deletable": false,
    "editable": false
   },
   "outputs": [
    {
     "name": "stdout",
     "output_type": "stream",
     "text": [
      "14.03594\n"
     ]
    }
   ],
   "source": [
    "print(simulate_flips(TRIALS))"
   ]
  },
  {
   "cell_type": "markdown",
   "metadata": {},
   "source": [
    "# Q3: Birthday Paradox\n",
    "\n",
    "How many people do you think there need to be in a room for two of them to have the same birthday with probability at least 50%? Someone who hasn't taken EECS 126 might say $\\frac{365}{2} \\approx 180$, but it turns out the answer is a lot fewer. We can approximate what this answer is using the following code."
   ]
  },
  {
   "cell_type": "markdown",
   "metadata": {},
   "source": [
    "**In the following cell, use Monte Carlo sampling to determine the probability that two people have the same birthday.** You can use `test_same_birthday` to verify the probabilities."
   ]
  },
  {
   "cell_type": "code",
   "execution_count": 22,
   "metadata": {
    "tags": []
   },
   "outputs": [],
   "source": [
    "def p_same_birthday(num_people: int, trials=10000):\n",
    "    same_birthday_count = 0\n",
    "    for _ in range(trials):\n",
    "        seen = set()\n",
    "        for i in range(num_people):\n",
    "            seen.add(np.random.randint(0, 365))\n",
    "        if len(seen) < num_people:\n",
    "            same_birthday_count += 1\n",
    "    return same_birthday_count / trials"
   ]
  },
  {
   "cell_type": "markdown",
   "metadata": {},
   "source": [
    "**Run the following cell to find the smallest value of `num_people` such that the Monte Carlo frequency of a birthday collision is at least 0.5.**"
   ]
  },
  {
   "cell_type": "code",
   "execution_count": 23,
   "metadata": {},
   "outputs": [
    {
     "name": "stdout",
     "output_type": "stream",
     "text": [
      "0.1247\n",
      "0.8916\n"
     ]
    },
    {
     "data": {
      "text/plain": [
       "True"
      ]
     },
     "execution_count": 23,
     "metadata": {},
     "output_type": "execute_result"
    }
   ],
   "source": [
    "def test_p_same_birthday():\n",
    "    x = p_same_birthday(10)\n",
    "    print(x)\n",
    "    assert np.abs(x - 0.11694817771107768) < 0.02\n",
    "    x = p_same_birthday(40)\n",
    "    print(x)\n",
    "    assert np.abs(x - 0.891231809817949) < 0.02\n",
    "    return True\n",
    "test_p_same_birthday()"
   ]
  },
  {
   "cell_type": "markdown",
   "metadata": {},
   "source": [
    "## Q4: Tricks\n",
    "\n",
    "The message so far has basically been that for simple problems, we can just use brute force, and for harder problems, we can perform sampling. This is mostly true, but there is often an art that comes to both techniques. In many cases, you can exploit symmetries or be clever in other ways. We already did this with the 5-card flush probability: a more naive way would have been to iterate over all $52 \\cdot 51 \\cdot 50 \\cdot 49 \\cdot 48$ ways 5-cards could be dealt. Most \"tricks\" aren't as obvious, but when found, they can greatly speed up your program.\n",
    "\n",
    "Say we wanted to find the probability a 12-card hand is \"symmetrical\". A hand is called symmetrical if it can be arranged in a way that is symmetrical. For 5-card hands, A K K 5 A is symmetrical since it can be arranged into A K 5 K A, whereas 10 10 J Q 10 isn't symmetrical. To find this probability, we could take a similar approach to the flush program, but that would involve going through 206379406870 hands. This isn't feasible, but it turns out some hands are the same, since in this problem, the suit doesn't matter. A hand is really just a tuple with the counts of each rank. For example 10 10 J Q 10 is\n",
    "\n",
    "2 | 3 | 4 | 5 | 6 | 7 | 8 | 9 | 10 | J | Q | K | A\n",
    "- | - | - | - | - | - | - | - | -- | - | - | - | -\n",
    "0 | 0 | 0 | 0 | 0 | 0 | 0 | 0 | 3  | 1 | 1 | 0 | 0\n",
    "\n",
    "And the number of unique tuples is far lower. So what we need to do is iterate through all the unique tuples. However, we also need to explicitly find the probability of each tuple, since they are not all the same.\n",
    "\n",
    "You may recall this practice as the Law of the Unconscious Statistician (LOTUS) from the homework, where we move to a probability space that is easier to work with and \"push-forward\" the law of the random variable of interest."
   ]
  },
  {
   "cell_type": "markdown",
   "metadata": {},
   "source": [
    "**Question: Assume we can still distinguish cards by suit. How many 5-card combinations have 3 10s, 1 J, and 1 Q?**\n",
    "\n",
    "$$\\binom{4}{3} \\binom{4}{1} \\binom{4}{1} = 64$$"
   ]
  },
  {
   "cell_type": "markdown",
   "metadata": {},
   "source": [
    "We are going to use the unique tuple approach to calculate the probability that a 12-card hand is symmetrical. **Complete the following function that determines if a tuple represents a hand that is symmetrical**. Your function must be general and work with any hand size (not just 12). You can use `test_is_symmetrical` to sanity-check your implementation."
   ]
  },
  {
   "cell_type": "code",
   "execution_count": 24,
   "metadata": {
    "tags": []
   },
   "outputs": [
    {
     "data": {
      "text/plain": [
       "True"
      ]
     },
     "execution_count": 24,
     "metadata": {},
     "output_type": "execute_result"
    }
   ],
   "source": [
    "def is_symmetrical(hand_tuple):\n",
    "    assert len(hand_tuple) == 13\n",
    "    odds = 0\n",
    "    for x in hand_tuple:\n",
    "        if x%2==1: odds += 1\n",
    "    return odds <= 1\n",
    "\n",
    "def test_is_symmetrical():\n",
    "    assert is_symmetrical((1, 0, 0, 0, 0, 0, 0, 0, 0, 0, 0, 0, 0))\n",
    "    assert is_symmetrical((2, 0, 4, 0, 2, 0, 0, 1, 0, 4, 4, 0, 2))\n",
    "    assert is_symmetrical((0, 0, 2, 0, 0, 0, 0, 0, 0, 0, 0, 2, 0))\n",
    "    assert not is_symmetrical((2, 0, 3, 0, 2, 0, 0, 1, 0, 4, 4, 0, 2))\n",
    "    assert not is_symmetrical((1, 1, 1, 1, 1, 1, 1, 1, 1, 1, 1, 1, 0))\n",
    "    return True\n",
    "test_is_symmetrical()"
   ]
  },
  {
   "cell_type": "code",
   "execution_count": 25,
   "metadata": {
    "deletable": false,
    "editable": false
   },
   "outputs": [],
   "source": [
    "assert is_symmetrical((0, 0, 2, 0, 0, 0, 0, 0, 0, 0, 0, 2, 0))\n",
    "assert not is_symmetrical((2, 0, 3, 0, 2, 0, 0, 1, 0, 4, 4, 0, 2))"
   ]
  },
  {
   "cell_type": "markdown",
   "metadata": {},
   "source": [
    "Now we need to calculate the probability of a hand_tuple. However, for numerical precision, we may just want to keep track of the total number of card combinations to get a tuple. In the end, we can divide this by the number of possible 12-card hands to find the probability. **Complete the following function that calculates this**. You can use `test_combinations` to verify your implementation is correct."
   ]
  },
  {
   "cell_type": "code",
   "execution_count": 26,
   "metadata": {
    "tags": []
   },
   "outputs": [],
   "source": [
    "import math\n",
    "def combinations(hand_tuple):\n",
    "    assert len(hand_tuple) == 13\n",
    "    ans = 1\n",
    "    for x in hand_tuple:\n",
    "        ans *= math.comb(4, x)\n",
    "    return ans\n",
    "    \n",
    "    "
   ]
  },
  {
   "cell_type": "code",
   "execution_count": 27,
   "metadata": {
    "deletable": false,
    "editable": false
   },
   "outputs": [
    {
     "data": {
      "text/plain": [
       "True"
      ]
     },
     "execution_count": 27,
     "metadata": {},
     "output_type": "execute_result"
    }
   ],
   "source": [
    "def test_combinations():\n",
    "    assert combinations((1, 0, 0, 0, 0, 0, 0, 0, 0, 0, 0, 0, 0)) == 4\n",
    "    assert combinations((2, 0, 3, 0, 2, 0, 0, 1, 0, 4, 4, 0, 2)) == 3456\n",
    "    assert combinations((1, 3, 3, 4, 2, 2, 1, 1, 0, 0, 0, 2, 1)) == 884736\n",
    "    return True\n",
    "test_combinations()"
   ]
  },
  {
   "cell_type": "markdown",
   "metadata": {},
   "source": [
    "What remains is to write a Python function that can provide all unique tuples. This is a bit tricky, but can be done with the following idea. We recursively go through each index 0 to 12 in the tuple. At each index, we can decide to add 1 to that index or decide to move on to the next index. We just need to make sure that we only take at most 4 cards from each index and have 12 cards in total. You may recall a similar problem if you have taken CS 61A.\n",
    "\n",
    "**Complete the following function**. You can use `test_unique_tuples` to verify your implementation is correct. If you wish, you may also write your own function from scratch."
   ]
  },
  {
   "cell_type": "code",
   "execution_count": 28,
   "metadata": {
    "tags": []
   },
   "outputs": [],
   "source": [
    "def unique_tuples(hand_size):\n",
    "    # returns all unique tuples of the desired hand size\n",
    "    return unique_tuples_helper(hand_size, 0, [0 for x in range(13)])\n",
    "\n",
    "def unique_tuples_helper(hand_size, index, hand_array):\n",
    "    # a helper function that returns all unique tuples of the desired hand size.\n",
    "    # hand_array is the current (uncompleted) configuration of tuple.\n",
    "    # Any tuple that is returned by this helper must satisfy these requirements:\n",
    "    # 1. For all indices smaller than index, the entry at that index in the tuple must be the same\n",
    "    # value as the entry at that index in hand_array,\n",
    "    # 2. For all indices greater than or equal to index, the entry at that index in the tuple must\n",
    "    # be at least the value at that index in hand_array\n",
    "    num_cards = sum(hand_array)\n",
    "    if num_cards == hand_size:\n",
    "        return [tuple(hand_array)]\n",
    "    if index >= 13:\n",
    "        return []\n",
    "    all_tuples = unique_tuples_helper(hand_size, index+1, hand_array)\n",
    "    if hand_array[index] < 4:\n",
    "        hand_array[index] += 1\n",
    "        all_tuples.extend(unique_tuples_helper(hand_size, index, hand_array))\n",
    "        hand_array[index] -= 1\n",
    "    return all_tuples"
   ]
  },
  {
   "cell_type": "code",
   "execution_count": 30,
   "metadata": {},
   "outputs": [
    {
     "data": {
      "text/plain": [
       "True"
      ]
     },
     "execution_count": 30,
     "metadata": {},
     "output_type": "execute_result"
    }
   ],
   "source": [
    "def test_unique_tuples():\n",
    "    total_combinations = 0\n",
    "    total_tuples = 0\n",
    "    for hand_tuple in unique_tuples(6):\n",
    "        total_combinations += combinations(hand_tuple)\n",
    "        total_tuples += 1\n",
    "    assert total_tuples == 18395\n",
    "    assert total_combinations == 20358520 \n",
    "    return True\n",
    "test_unique_tuples()"
   ]
  },
  {
   "cell_type": "markdown",
   "metadata": {
    "deletable": false,
    "editable": false
   },
   "source": [
    "## Submission\n",
    "\n",
    "Make sure you have run all cells in your notebook in order before running the cell below, so that all images/graphs appear in the output. The cell below will generate a zip file for you to submit. **Please save before exporting!**\n",
    "\n",
    "These are some submission instructions."
   ]
  },
  {
   "cell_type": "code",
   "execution_count": 31,
   "metadata": {
    "deletable": false,
    "editable": false
   },
   "outputs": [
    {
     "name": "stdout",
     "output_type": "stream",
     "text": [
      "Running your submission against local test cases...\n",
      "\n",
      "\n",
      "Your submission received the following results when run against available test cases:\n",
      "\n",
      "\n"
     ]
    },
    {
     "data": {
      "text/html": [
       "\n",
       "                    <p>\n",
       "                        Your submission has been exported. Click\n",
       "                        <a href=\"programming_2025_02_12T17_53_36_795788.zip\" download=\"programming_2025_02_12T17_53_36_795788.zip\" target=\"_blank\">here</a> to download\n",
       "                        the zip file.\n",
       "                    </p>\n",
       "                "
      ],
      "text/plain": [
       "<IPython.core.display.HTML object>"
      ]
     },
     "metadata": {},
     "output_type": "display_data"
    }
   ],
   "source": [
    "# Save your notebook first, then run this cell to export your submission.\n",
    "grader.export(run_tests=True, pdf=False)"
   ]
  },
  {
   "cell_type": "markdown",
   "metadata": {},
   "source": [
    " "
   ]
  }
 ],
 "metadata": {
  "kernelspec": {
   "display_name": "eecs126",
   "language": "python",
   "name": "python3"
  },
  "language_info": {
   "codemirror_mode": {
    "name": "ipython",
    "version": 3
   },
   "file_extension": ".py",
   "mimetype": "text/x-python",
   "name": "python",
   "nbconvert_exporter": "python",
   "pygments_lexer": "ipython3",
   "version": "3.11.11"
  },
  "otter": {
   "OK_FORMAT": true,
   "tests": {
    "q1-1": {
     "name": "q1-1",
     "points": null,
     "suites": [
      {
       "cases": [],
       "scored": true,
       "setup": "",
       "teardown": "",
       "type": "doctest"
      }
     ]
    },
    "q1-2": {
     "name": "q1-2",
     "points": null,
     "suites": [
      {
       "cases": [],
       "scored": true,
       "setup": "",
       "teardown": "",
       "type": "doctest"
      }
     ]
    },
    "q2": {
     "name": "q2",
     "points": null,
     "suites": [
      {
       "cases": [],
       "scored": true,
       "setup": "",
       "teardown": "",
       "type": "doctest"
      }
     ]
    },
    "q3": {
     "name": "q3",
     "points": null,
     "suites": [
      {
       "cases": [],
       "scored": true,
       "setup": "",
       "teardown": "",
       "type": "doctest"
      }
     ]
    },
    "q4-1": {
     "name": "q4-1",
     "points": null,
     "suites": [
      {
       "cases": [],
       "scored": true,
       "setup": "",
       "teardown": "",
       "type": "doctest"
      }
     ]
    },
    "q4-2": {
     "name": "q4-2",
     "points": null,
     "suites": [
      {
       "cases": [],
       "scored": true,
       "setup": "",
       "teardown": "",
       "type": "doctest"
      }
     ]
    },
    "q4-3": {
     "name": "q4-3",
     "points": null,
     "suites": [
      {
       "cases": [],
       "scored": true,
       "setup": "",
       "teardown": "",
       "type": "doctest"
      }
     ]
    }
   }
  }
 },
 "nbformat": 4,
 "nbformat_minor": 4
}
