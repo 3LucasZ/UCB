{
 "cells": [
  {
   "cell_type": "code",
   "execution_count": 1,
   "metadata": {
    "deletable": false,
    "editable": false
   },
   "outputs": [],
   "source": [
    "# Initialize Otter\n",
    "import otter\n",
    "grader = otter.Notebook(\"wordle.ipynb\")"
   ]
  },
  {
   "cell_type": "markdown",
   "metadata": {},
   "source": [
    "# Wordle!\n",
    "\n",
    "#### Authors:\n",
    "v1.0 (Fall 2022): Andy Dong\n",
    "\n",
    "v1.1 (Spring 2025): Lance Mathias"
   ]
  },
  {
   "cell_type": "markdown",
   "metadata": {},
   "source": [
    "## Setup\n",
    "This version of the lab is designed to run locally on your machine. Please do not use JupyterHub to run this version as the lab requires more memory than allowed by JupyterHub."
   ]
  },
  {
   "cell_type": "markdown",
   "metadata": {},
   "source": [
    "## Introduction\n",
    "\n",
    "In the game of [Wordle](https://www.nytimes.com/games/wordle/index.html), your goal is to deduce a 5-letter secret word that the game has generated using as few guesses as possible. After each guess, the game will tell you for each letter in your guess, whether the letter is\n",
    "\n",
    "-  in the secret word and in the right spot (indicated by green),\n",
    "-  in the secret word but in the wrong spot (indicated by yellow),\n",
    "-  or not in the secret word (indicated by gray).\n",
    "\n",
    "Take a look at the example game below where the secret word is \"scald\"."
   ]
  },
  {
   "cell_type": "markdown",
   "metadata": {},
   "source": [
    "<div>\n",
    "<img src=\"examples/ex-0.png\" width=\"500\"/>\n",
    "</div>"
   ]
  },
  {
   "cell_type": "markdown",
   "metadata": {},
   "source": [
    "Suppose we want to write a program that solves the problem as optimally as possible. In this lab, you will explore how to write a greedy algorithm using Information Theory. It's recommended that you try a game of Wordle to familiarize yourself with the rules."
   ]
  },
  {
   "cell_type": "code",
   "execution_count": 2,
   "metadata": {},
   "outputs": [
    {
     "name": "stdout",
     "output_type": "stream",
     "text": [
      "Requirement already satisfied: numpy in /opt/anaconda3/envs/eecs126/lib/python3.11/site-packages (from -r requirements.txt (line 1)) (2.2.2)\n",
      "Requirement already satisfied: matplotlib in /opt/anaconda3/envs/eecs126/lib/python3.11/site-packages (from -r requirements.txt (line 2)) (3.10.0)\n",
      "Requirement already satisfied: otter-grader==6.1.0 in /opt/anaconda3/envs/eecs126/lib/python3.11/site-packages (from -r requirements.txt (line 3)) (6.1.0)\n",
      "Requirement already satisfied: scipy~=1.15.0 in /opt/anaconda3/envs/eecs126/lib/python3.11/site-packages (from -r requirements.txt (line 4)) (1.15.2)\n",
      "Collecting tqdm (from -r requirements.txt (line 5))\n",
      "  Downloading tqdm-4.67.1-py3-none-any.whl.metadata (57 kB)\n",
      "Requirement already satisfied: click<9.0.0,>=8.1.7 in /opt/anaconda3/envs/eecs126/lib/python3.11/site-packages (from otter-grader==6.1.0->-r requirements.txt (line 3)) (8.1.8)\n",
      "Requirement already satisfied: dill>=0.3.0 in /opt/anaconda3/envs/eecs126/lib/python3.11/site-packages (from otter-grader==6.1.0->-r requirements.txt (line 3)) (0.3.9)\n",
      "Requirement already satisfied: fica>=0.4.1 in /opt/anaconda3/envs/eecs126/lib/python3.11/site-packages (from otter-grader==6.1.0->-r requirements.txt (line 3)) (0.4.1)\n",
      "Requirement already satisfied: ipylab<2.0.0,>=1.0.0 in /opt/anaconda3/envs/eecs126/lib/python3.11/site-packages (from otter-grader==6.1.0->-r requirements.txt (line 3)) (1.0.0)\n",
      "Requirement already satisfied: ipython in /opt/anaconda3/envs/eecs126/lib/python3.11/site-packages (from otter-grader==6.1.0->-r requirements.txt (line 3)) (8.30.0)\n",
      "Requirement already satisfied: ipywidgets<9.0.0,>=8.1.5 in /opt/anaconda3/envs/eecs126/lib/python3.11/site-packages (from otter-grader==6.1.0->-r requirements.txt (line 3)) (8.1.5)\n",
      "Requirement already satisfied: jinja2<4.0,>=3.1 in /opt/anaconda3/envs/eecs126/lib/python3.11/site-packages (from otter-grader==6.1.0->-r requirements.txt (line 3)) (3.1.5)\n",
      "Requirement already satisfied: jupytext<2.0.0,>=1.16.4 in /opt/anaconda3/envs/eecs126/lib/python3.11/site-packages (from otter-grader==6.1.0->-r requirements.txt (line 3)) (1.16.6)\n",
      "Requirement already satisfied: nbconvert>=6.0.0 in /opt/anaconda3/envs/eecs126/lib/python3.11/site-packages (from nbconvert[webpdf]>=6.0.0; sys_platform != \"emscripten\" and sys_platform != \"wasi\"->otter-grader==6.1.0->-r requirements.txt (line 3)) (7.16.4)\n",
      "Requirement already satisfied: nbformat>=5.0.0 in /opt/anaconda3/envs/eecs126/lib/python3.11/site-packages (from otter-grader==6.1.0->-r requirements.txt (line 3)) (5.10.4)\n",
      "Requirement already satisfied: pandas>=2.0.0 in /opt/anaconda3/envs/eecs126/lib/python3.11/site-packages (from otter-grader==6.1.0->-r requirements.txt (line 3)) (2.2.3)\n",
      "Requirement already satisfied: python-on-whales<1.0.0,>=0.72.0 in /opt/anaconda3/envs/eecs126/lib/python3.11/site-packages (from otter-grader==6.1.0->-r requirements.txt (line 3)) (0.75.1)\n",
      "Requirement already satisfied: pyyaml<7,>=6 in /opt/anaconda3/envs/eecs126/lib/python3.11/site-packages (from otter-grader==6.1.0->-r requirements.txt (line 3)) (6.0.2)\n",
      "Requirement already satisfied: requests<3.0,>=2.31 in /opt/anaconda3/envs/eecs126/lib/python3.11/site-packages (from otter-grader==6.1.0->-r requirements.txt (line 3)) (2.32.3)\n",
      "Requirement already satisfied: wrapt<2.0.0,>=1.16.0 in /opt/anaconda3/envs/eecs126/lib/python3.11/site-packages (from otter-grader==6.1.0->-r requirements.txt (line 3)) (1.17.2)\n",
      "Requirement already satisfied: contourpy>=1.0.1 in /opt/anaconda3/envs/eecs126/lib/python3.11/site-packages (from matplotlib->-r requirements.txt (line 2)) (1.3.1)\n",
      "Requirement already satisfied: cycler>=0.10 in /opt/anaconda3/envs/eecs126/lib/python3.11/site-packages (from matplotlib->-r requirements.txt (line 2)) (0.12.1)\n",
      "Requirement already satisfied: fonttools>=4.22.0 in /opt/anaconda3/envs/eecs126/lib/python3.11/site-packages (from matplotlib->-r requirements.txt (line 2)) (4.55.8)\n",
      "Requirement already satisfied: kiwisolver>=1.3.1 in /opt/anaconda3/envs/eecs126/lib/python3.11/site-packages (from matplotlib->-r requirements.txt (line 2)) (1.4.8)\n",
      "Requirement already satisfied: packaging>=20.0 in /opt/anaconda3/envs/eecs126/lib/python3.11/site-packages (from matplotlib->-r requirements.txt (line 2)) (24.2)\n",
      "Requirement already satisfied: pillow>=8 in /opt/anaconda3/envs/eecs126/lib/python3.11/site-packages (from matplotlib->-r requirements.txt (line 2)) (11.0.0)\n",
      "Requirement already satisfied: pyparsing>=2.3.1 in /opt/anaconda3/envs/eecs126/lib/python3.11/site-packages (from matplotlib->-r requirements.txt (line 2)) (3.2.1)\n",
      "Requirement already satisfied: python-dateutil>=2.7 in /opt/anaconda3/envs/eecs126/lib/python3.11/site-packages (from matplotlib->-r requirements.txt (line 2)) (2.9.0.post0)\n",
      "Requirement already satisfied: docutils in /opt/anaconda3/envs/eecs126/lib/python3.11/site-packages (from fica>=0.4.1->otter-grader==6.1.0->-r requirements.txt (line 3)) (0.21.2)\n",
      "Requirement already satisfied: sphinx in /opt/anaconda3/envs/eecs126/lib/python3.11/site-packages (from fica>=0.4.1->otter-grader==6.1.0->-r requirements.txt (line 3)) (8.1.3)\n",
      "Requirement already satisfied: comm>=0.1.3 in /opt/anaconda3/envs/eecs126/lib/python3.11/site-packages (from ipywidgets<9.0.0,>=8.1.5->otter-grader==6.1.0->-r requirements.txt (line 3)) (0.2.1)\n",
      "Requirement already satisfied: traitlets>=4.3.1 in /opt/anaconda3/envs/eecs126/lib/python3.11/site-packages (from ipywidgets<9.0.0,>=8.1.5->otter-grader==6.1.0->-r requirements.txt (line 3)) (5.14.3)\n",
      "Requirement already satisfied: widgetsnbextension~=4.0.12 in /opt/anaconda3/envs/eecs126/lib/python3.11/site-packages (from ipywidgets<9.0.0,>=8.1.5->otter-grader==6.1.0->-r requirements.txt (line 3)) (4.0.13)\n",
      "Requirement already satisfied: jupyterlab-widgets~=3.0.12 in /opt/anaconda3/envs/eecs126/lib/python3.11/site-packages (from ipywidgets<9.0.0,>=8.1.5->otter-grader==6.1.0->-r requirements.txt (line 3)) (3.0.13)\n",
      "Requirement already satisfied: decorator in /opt/anaconda3/envs/eecs126/lib/python3.11/site-packages (from ipython->otter-grader==6.1.0->-r requirements.txt (line 3)) (5.1.1)\n",
      "Requirement already satisfied: jedi>=0.16 in /opt/anaconda3/envs/eecs126/lib/python3.11/site-packages (from ipython->otter-grader==6.1.0->-r requirements.txt (line 3)) (0.19.2)\n",
      "Requirement already satisfied: matplotlib-inline in /opt/anaconda3/envs/eecs126/lib/python3.11/site-packages (from ipython->otter-grader==6.1.0->-r requirements.txt (line 3)) (0.1.6)\n",
      "Requirement already satisfied: prompt-toolkit<3.1.0,>=3.0.41 in /opt/anaconda3/envs/eecs126/lib/python3.11/site-packages (from ipython->otter-grader==6.1.0->-r requirements.txt (line 3)) (3.0.43)\n",
      "Requirement already satisfied: pygments>=2.4.0 in /opt/anaconda3/envs/eecs126/lib/python3.11/site-packages (from ipython->otter-grader==6.1.0->-r requirements.txt (line 3)) (2.19.1)\n",
      "Requirement already satisfied: stack-data in /opt/anaconda3/envs/eecs126/lib/python3.11/site-packages (from ipython->otter-grader==6.1.0->-r requirements.txt (line 3)) (0.2.0)\n",
      "Requirement already satisfied: typing-extensions>=4.6 in /opt/anaconda3/envs/eecs126/lib/python3.11/site-packages (from ipython->otter-grader==6.1.0->-r requirements.txt (line 3)) (4.12.2)\n",
      "Requirement already satisfied: pexpect>4.3 in /opt/anaconda3/envs/eecs126/lib/python3.11/site-packages (from ipython->otter-grader==6.1.0->-r requirements.txt (line 3)) (4.8.0)\n",
      "Requirement already satisfied: MarkupSafe>=2.0 in /opt/anaconda3/envs/eecs126/lib/python3.11/site-packages (from jinja2<4.0,>=3.1->otter-grader==6.1.0->-r requirements.txt (line 3)) (3.0.2)\n",
      "Requirement already satisfied: markdown-it-py>=1.0 in /opt/anaconda3/envs/eecs126/lib/python3.11/site-packages (from jupytext<2.0.0,>=1.16.4->otter-grader==6.1.0->-r requirements.txt (line 3)) (3.0.0)\n",
      "Requirement already satisfied: mdit-py-plugins in /opt/anaconda3/envs/eecs126/lib/python3.11/site-packages (from jupytext<2.0.0,>=1.16.4->otter-grader==6.1.0->-r requirements.txt (line 3)) (0.4.2)\n",
      "Requirement already satisfied: beautifulsoup4 in /opt/anaconda3/envs/eecs126/lib/python3.11/site-packages (from nbconvert>=6.0.0->nbconvert[webpdf]>=6.0.0; sys_platform != \"emscripten\" and sys_platform != \"wasi\"->otter-grader==6.1.0->-r requirements.txt (line 3)) (4.12.3)\n",
      "Requirement already satisfied: bleach!=5.0.0 in /opt/anaconda3/envs/eecs126/lib/python3.11/site-packages (from nbconvert>=6.0.0->nbconvert[webpdf]>=6.0.0; sys_platform != \"emscripten\" and sys_platform != \"wasi\"->otter-grader==6.1.0->-r requirements.txt (line 3)) (6.2.0)\n",
      "Requirement already satisfied: defusedxml in /opt/anaconda3/envs/eecs126/lib/python3.11/site-packages (from nbconvert>=6.0.0->nbconvert[webpdf]>=6.0.0; sys_platform != \"emscripten\" and sys_platform != \"wasi\"->otter-grader==6.1.0->-r requirements.txt (line 3)) (0.7.1)\n",
      "Requirement already satisfied: jupyter-core>=4.7 in /opt/anaconda3/envs/eecs126/lib/python3.11/site-packages (from nbconvert>=6.0.0->nbconvert[webpdf]>=6.0.0; sys_platform != \"emscripten\" and sys_platform != \"wasi\"->otter-grader==6.1.0->-r requirements.txt (line 3)) (5.7.2)\n",
      "Requirement already satisfied: jupyterlab-pygments in /opt/anaconda3/envs/eecs126/lib/python3.11/site-packages (from nbconvert>=6.0.0->nbconvert[webpdf]>=6.0.0; sys_platform != \"emscripten\" and sys_platform != \"wasi\"->otter-grader==6.1.0->-r requirements.txt (line 3)) (0.1.2)\n",
      "Requirement already satisfied: mistune<4,>=2.0.3 in /opt/anaconda3/envs/eecs126/lib/python3.11/site-packages (from nbconvert>=6.0.0->nbconvert[webpdf]>=6.0.0; sys_platform != \"emscripten\" and sys_platform != \"wasi\"->otter-grader==6.1.0->-r requirements.txt (line 3)) (2.0.4)\n",
      "Requirement already satisfied: nbclient>=0.5.0 in /opt/anaconda3/envs/eecs126/lib/python3.11/site-packages (from nbconvert>=6.0.0->nbconvert[webpdf]>=6.0.0; sys_platform != \"emscripten\" and sys_platform != \"wasi\"->otter-grader==6.1.0->-r requirements.txt (line 3)) (0.8.0)\n",
      "Requirement already satisfied: pandocfilters>=1.4.1 in /opt/anaconda3/envs/eecs126/lib/python3.11/site-packages (from nbconvert>=6.0.0->nbconvert[webpdf]>=6.0.0; sys_platform != \"emscripten\" and sys_platform != \"wasi\"->otter-grader==6.1.0->-r requirements.txt (line 3)) (1.5.0)\n",
      "Requirement already satisfied: tinycss2 in /opt/anaconda3/envs/eecs126/lib/python3.11/site-packages (from nbconvert>=6.0.0->nbconvert[webpdf]>=6.0.0; sys_platform != \"emscripten\" and sys_platform != \"wasi\"->otter-grader==6.1.0->-r requirements.txt (line 3)) (1.4.0)\n",
      "Requirement already satisfied: playwright in /opt/anaconda3/envs/eecs126/lib/python3.11/site-packages (from nbconvert[webpdf]>=6.0.0; sys_platform != \"emscripten\" and sys_platform != \"wasi\"->otter-grader==6.1.0->-r requirements.txt (line 3)) (1.50.0)\n",
      "Requirement already satisfied: fastjsonschema>=2.15 in /opt/anaconda3/envs/eecs126/lib/python3.11/site-packages (from nbformat>=5.0.0->otter-grader==6.1.0->-r requirements.txt (line 3)) (2.20.0)\n",
      "Requirement already satisfied: jsonschema>=2.6 in /opt/anaconda3/envs/eecs126/lib/python3.11/site-packages (from nbformat>=5.0.0->otter-grader==6.1.0->-r requirements.txt (line 3)) (4.23.0)\n",
      "Requirement already satisfied: pytz>=2020.1 in /opt/anaconda3/envs/eecs126/lib/python3.11/site-packages (from pandas>=2.0.0->otter-grader==6.1.0->-r requirements.txt (line 3)) (2025.1)\n",
      "Requirement already satisfied: tzdata>=2022.7 in /opt/anaconda3/envs/eecs126/lib/python3.11/site-packages (from pandas>=2.0.0->otter-grader==6.1.0->-r requirements.txt (line 3)) (2025.1)\n",
      "Requirement already satisfied: six>=1.5 in /opt/anaconda3/envs/eecs126/lib/python3.11/site-packages (from python-dateutil>=2.7->matplotlib->-r requirements.txt (line 2)) (1.16.0)\n",
      "Requirement already satisfied: pydantic!=2.0.*,<3,>=2 in /opt/anaconda3/envs/eecs126/lib/python3.11/site-packages (from python-on-whales<1.0.0,>=0.72.0->otter-grader==6.1.0->-r requirements.txt (line 3)) (2.10.6)\n",
      "Requirement already satisfied: charset-normalizer<4,>=2 in /opt/anaconda3/envs/eecs126/lib/python3.11/site-packages (from requests<3.0,>=2.31->otter-grader==6.1.0->-r requirements.txt (line 3)) (3.3.2)\n",
      "Requirement already satisfied: idna<4,>=2.5 in /opt/anaconda3/envs/eecs126/lib/python3.11/site-packages (from requests<3.0,>=2.31->otter-grader==6.1.0->-r requirements.txt (line 3)) (3.7)\n",
      "Requirement already satisfied: urllib3<3,>=1.21.1 in /opt/anaconda3/envs/eecs126/lib/python3.11/site-packages (from requests<3.0,>=2.31->otter-grader==6.1.0->-r requirements.txt (line 3)) (2.3.0)\n",
      "Requirement already satisfied: certifi>=2017.4.17 in /opt/anaconda3/envs/eecs126/lib/python3.11/site-packages (from requests<3.0,>=2.31->otter-grader==6.1.0->-r requirements.txt (line 3)) (2025.1.31)\n",
      "Requirement already satisfied: webencodings in /opt/anaconda3/envs/eecs126/lib/python3.11/site-packages (from bleach!=5.0.0->nbconvert>=6.0.0->nbconvert[webpdf]>=6.0.0; sys_platform != \"emscripten\" and sys_platform != \"wasi\"->otter-grader==6.1.0->-r requirements.txt (line 3)) (0.5.1)\n",
      "Requirement already satisfied: parso<0.9.0,>=0.8.4 in /opt/anaconda3/envs/eecs126/lib/python3.11/site-packages (from jedi>=0.16->ipython->otter-grader==6.1.0->-r requirements.txt (line 3)) (0.8.4)\n",
      "Requirement already satisfied: attrs>=22.2.0 in /opt/anaconda3/envs/eecs126/lib/python3.11/site-packages (from jsonschema>=2.6->nbformat>=5.0.0->otter-grader==6.1.0->-r requirements.txt (line 3)) (24.3.0)\n",
      "Requirement already satisfied: jsonschema-specifications>=2023.03.6 in /opt/anaconda3/envs/eecs126/lib/python3.11/site-packages (from jsonschema>=2.6->nbformat>=5.0.0->otter-grader==6.1.0->-r requirements.txt (line 3)) (2023.7.1)\n",
      "Requirement already satisfied: referencing>=0.28.4 in /opt/anaconda3/envs/eecs126/lib/python3.11/site-packages (from jsonschema>=2.6->nbformat>=5.0.0->otter-grader==6.1.0->-r requirements.txt (line 3)) (0.30.2)\n",
      "Requirement already satisfied: rpds-py>=0.7.1 in /opt/anaconda3/envs/eecs126/lib/python3.11/site-packages (from jsonschema>=2.6->nbformat>=5.0.0->otter-grader==6.1.0->-r requirements.txt (line 3)) (0.22.3)\n",
      "Requirement already satisfied: platformdirs>=2.5 in /opt/anaconda3/envs/eecs126/lib/python3.11/site-packages (from jupyter-core>=4.7->nbconvert>=6.0.0->nbconvert[webpdf]>=6.0.0; sys_platform != \"emscripten\" and sys_platform != \"wasi\"->otter-grader==6.1.0->-r requirements.txt (line 3)) (3.10.0)\n",
      "Requirement already satisfied: mdurl~=0.1 in /opt/anaconda3/envs/eecs126/lib/python3.11/site-packages (from markdown-it-py>=1.0->jupytext<2.0.0,>=1.16.4->otter-grader==6.1.0->-r requirements.txt (line 3)) (0.1.2)\n",
      "Requirement already satisfied: jupyter-client>=6.1.12 in /opt/anaconda3/envs/eecs126/lib/python3.11/site-packages (from nbclient>=0.5.0->nbconvert>=6.0.0->nbconvert[webpdf]>=6.0.0; sys_platform != \"emscripten\" and sys_platform != \"wasi\"->otter-grader==6.1.0->-r requirements.txt (line 3)) (8.6.3)\n",
      "Requirement already satisfied: ptyprocess>=0.5 in /opt/anaconda3/envs/eecs126/lib/python3.11/site-packages (from pexpect>4.3->ipython->otter-grader==6.1.0->-r requirements.txt (line 3)) (0.7.0)\n",
      "Requirement already satisfied: wcwidth in /opt/anaconda3/envs/eecs126/lib/python3.11/site-packages (from prompt-toolkit<3.1.0,>=3.0.41->ipython->otter-grader==6.1.0->-r requirements.txt (line 3)) (0.2.5)\n",
      "Requirement already satisfied: annotated-types>=0.6.0 in /opt/anaconda3/envs/eecs126/lib/python3.11/site-packages (from pydantic!=2.0.*,<3,>=2->python-on-whales<1.0.0,>=0.72.0->otter-grader==6.1.0->-r requirements.txt (line 3)) (0.7.0)\n",
      "Requirement already satisfied: pydantic-core==2.27.2 in /opt/anaconda3/envs/eecs126/lib/python3.11/site-packages (from pydantic!=2.0.*,<3,>=2->python-on-whales<1.0.0,>=0.72.0->otter-grader==6.1.0->-r requirements.txt (line 3)) (2.27.2)\n",
      "Requirement already satisfied: soupsieve>1.2 in /opt/anaconda3/envs/eecs126/lib/python3.11/site-packages (from beautifulsoup4->nbconvert>=6.0.0->nbconvert[webpdf]>=6.0.0; sys_platform != \"emscripten\" and sys_platform != \"wasi\"->otter-grader==6.1.0->-r requirements.txt (line 3)) (2.5)\n",
      "Requirement already satisfied: pyee<13,>=12 in /opt/anaconda3/envs/eecs126/lib/python3.11/site-packages (from playwright->nbconvert[webpdf]>=6.0.0; sys_platform != \"emscripten\" and sys_platform != \"wasi\"->otter-grader==6.1.0->-r requirements.txt (line 3)) (12.1.1)\n",
      "Requirement already satisfied: greenlet<4.0.0,>=3.1.1 in /opt/anaconda3/envs/eecs126/lib/python3.11/site-packages (from playwright->nbconvert[webpdf]>=6.0.0; sys_platform != \"emscripten\" and sys_platform != \"wasi\"->otter-grader==6.1.0->-r requirements.txt (line 3)) (3.1.1)\n",
      "Requirement already satisfied: sphinxcontrib-applehelp>=1.0.7 in /opt/anaconda3/envs/eecs126/lib/python3.11/site-packages (from sphinx->fica>=0.4.1->otter-grader==6.1.0->-r requirements.txt (line 3)) (2.0.0)\n",
      "Requirement already satisfied: sphinxcontrib-devhelp>=1.0.6 in /opt/anaconda3/envs/eecs126/lib/python3.11/site-packages (from sphinx->fica>=0.4.1->otter-grader==6.1.0->-r requirements.txt (line 3)) (2.0.0)\n",
      "Requirement already satisfied: sphinxcontrib-htmlhelp>=2.0.6 in /opt/anaconda3/envs/eecs126/lib/python3.11/site-packages (from sphinx->fica>=0.4.1->otter-grader==6.1.0->-r requirements.txt (line 3)) (2.1.0)\n",
      "Requirement already satisfied: sphinxcontrib-jsmath>=1.0.1 in /opt/anaconda3/envs/eecs126/lib/python3.11/site-packages (from sphinx->fica>=0.4.1->otter-grader==6.1.0->-r requirements.txt (line 3)) (1.0.1)\n",
      "Requirement already satisfied: sphinxcontrib-qthelp>=1.0.6 in /opt/anaconda3/envs/eecs126/lib/python3.11/site-packages (from sphinx->fica>=0.4.1->otter-grader==6.1.0->-r requirements.txt (line 3)) (2.0.0)\n",
      "Requirement already satisfied: sphinxcontrib-serializinghtml>=1.1.9 in /opt/anaconda3/envs/eecs126/lib/python3.11/site-packages (from sphinx->fica>=0.4.1->otter-grader==6.1.0->-r requirements.txt (line 3)) (2.0.0)\n",
      "Requirement already satisfied: snowballstemmer>=2.2 in /opt/anaconda3/envs/eecs126/lib/python3.11/site-packages (from sphinx->fica>=0.4.1->otter-grader==6.1.0->-r requirements.txt (line 3)) (2.2.0)\n",
      "Requirement already satisfied: babel>=2.13 in /opt/anaconda3/envs/eecs126/lib/python3.11/site-packages (from sphinx->fica>=0.4.1->otter-grader==6.1.0->-r requirements.txt (line 3)) (2.16.0)\n",
      "Requirement already satisfied: alabaster>=0.7.14 in /opt/anaconda3/envs/eecs126/lib/python3.11/site-packages (from sphinx->fica>=0.4.1->otter-grader==6.1.0->-r requirements.txt (line 3)) (1.0.0)\n",
      "Requirement already satisfied: imagesize>=1.3 in /opt/anaconda3/envs/eecs126/lib/python3.11/site-packages (from sphinx->fica>=0.4.1->otter-grader==6.1.0->-r requirements.txt (line 3)) (1.4.1)\n",
      "Requirement already satisfied: executing in /opt/anaconda3/envs/eecs126/lib/python3.11/site-packages (from stack-data->ipython->otter-grader==6.1.0->-r requirements.txt (line 3)) (0.8.3)\n",
      "Requirement already satisfied: asttokens in /opt/anaconda3/envs/eecs126/lib/python3.11/site-packages (from stack-data->ipython->otter-grader==6.1.0->-r requirements.txt (line 3)) (2.0.5)\n",
      "Requirement already satisfied: pure-eval in /opt/anaconda3/envs/eecs126/lib/python3.11/site-packages (from stack-data->ipython->otter-grader==6.1.0->-r requirements.txt (line 3)) (0.2.2)\n",
      "Requirement already satisfied: pyzmq>=23.0 in /opt/anaconda3/envs/eecs126/lib/python3.11/site-packages (from jupyter-client>=6.1.12->nbclient>=0.5.0->nbconvert>=6.0.0->nbconvert[webpdf]>=6.0.0; sys_platform != \"emscripten\" and sys_platform != \"wasi\"->otter-grader==6.1.0->-r requirements.txt (line 3)) (26.2.0)\n",
      "Requirement already satisfied: tornado>=6.2 in /opt/anaconda3/envs/eecs126/lib/python3.11/site-packages (from jupyter-client>=6.1.12->nbclient>=0.5.0->nbconvert>=6.0.0->nbconvert[webpdf]>=6.0.0; sys_platform != \"emscripten\" and sys_platform != \"wasi\"->otter-grader==6.1.0->-r requirements.txt (line 3)) (6.4.2)\n",
      "Downloading tqdm-4.67.1-py3-none-any.whl (78 kB)\n",
      "Installing collected packages: tqdm\n",
      "Successfully installed tqdm-4.67.1\n",
      "Note: you may need to restart the kernel to use updated packages.\n"
     ]
    }
   ],
   "source": [
    "# If modules have not been installed yet:\n",
    "\n",
    "%pip install -r requirements.txt\n",
    "\n",
    "# Restart kernel afterwards, if needed"
   ]
  },
  {
   "cell_type": "code",
   "execution_count": 4,
   "metadata": {},
   "outputs": [],
   "source": [
    "import hashlib\n",
    "import matplotlib.pyplot as plt\n",
    "from IPython.display import Image\n",
    "from pathlib import Path\n",
    "import pickle\n",
    "from tqdm import tqdm\n",
    "from functools import lru_cache\n",
    "import random\n",
    "import math\n",
    "import os\n",
    "\n",
    "rng_seed = 0"
   ]
  },
  {
   "cell_type": "markdown",
   "metadata": {},
   "source": [
    "## Modeling the Game\n",
    "\n",
    "Here's some setup and simplifying assumptions about the game. First, we have obtained the list of 2315 words that can be chosen as the secret word. The secret word $X$ is modeled to be a random variable that has uniform distribution over these possible words. Second, your guess cannot be any arbitrary combination of 5 letters but needs to be from a list of 12972 valid guesses (which, of course, contains the 2315 possible secret words). Third, any revealed hints don't need to be used in subsequent guesses. With these, let's dive in!"
   ]
  },
  {
   "cell_type": "markdown",
   "metadata": {},
   "source": [
    "Run the following cell to read in the list of possible secret words and the list of allowed guesses."
   ]
  },
  {
   "cell_type": "code",
   "execution_count": 5,
   "metadata": {},
   "outputs": [
    {
     "name": "stdout",
     "output_type": "stream",
     "text": [
      "Number of possible_words: 2315\n",
      "Number of allowed_guesses: 12972\n"
     ]
    }
   ],
   "source": [
    "with open('data/possible_words.txt') as file:\n",
    "    possible_words = [line.rstrip() for line in file]\n",
    "with open('data/allowed_guesses.txt') as file:\n",
    "    allowed_guesses = [line.rstrip() for line in file]\n",
    "\n",
    "print('Number of possible_words:', len(possible_words))\n",
    "print('Number of allowed_guesses:', len(allowed_guesses))"
   ]
  },
  {
   "cell_type": "markdown",
   "metadata": {},
   "source": [
    "Let's print out some of these words to take a look. `possible_words` consists of words used more frequently in the English language while `allowed_guesses` constains some words that we don't see in day-to-day life."
   ]
  },
  {
   "cell_type": "code",
   "execution_count": 6,
   "metadata": {},
   "outputs": [
    {
     "name": "stdout",
     "output_type": "stream",
     "text": [
      "Some possible secret words:\n",
      "pupal enact tithe intro macro druid craft borax spoke thigh fraud kneed dogma skill pooch edify tread twist lumen seize \n",
      "\n",
      "Some allowed guesses:\n",
      "notal deres shmoe skiff texes starn bewig veges loach pirai ginny bowrs adobo whift buoys gyred maneb tamis tacet danks\n"
     ]
    }
   ],
   "source": [
    "print('Some possible secret words:')\n",
    "print(*random.sample(possible_words, 20), '\\n')\n",
    "print('Some allowed guesses:')\n",
    "print(*random.sample(allowed_guesses, 20))"
   ]
  },
  {
   "cell_type": "markdown",
   "metadata": {
    "deletable": false,
    "editable": false
   },
   "source": [
    "<!-- BEGIN QUESTION -->\n",
    "\n",
    "**Written Question 1:** The secret word is picked uniformly at random from 2315 possible words. What is the entropy of that distribution in unit of bits? And what does it mean about how many bits of information we need to gain to recover the secret word?"
   ]
  },
  {
   "cell_type": "markdown",
   "metadata": {
    "tags": [
     "otter_answer_cell"
    ]
   },
   "source": [
    "Feel free to use this space to draft your answer. When you finish, remember to paste your response and any relevant plots/figures **into the accompanying Gradescope assignment**."
   ]
  },
  {
   "cell_type": "markdown",
   "metadata": {
    "deletable": false,
    "editable": false
   },
   "source": [
    "<!-- END QUESTION -->\n",
    "\n",
    "## Implementing the Game Logic (Read Only)\n",
    "\n",
    "We then implement the logic of the game by first computing the pattern that we will see for a given pair of guess and secret word. The function `compute_pattern` takes in a guess and a secret word, and returns an integer tuple of length 5 that represents the color pattern, where an entry of 2 represents green in the corresponding position, 1 represents yellow, and 0 represents gray.\n",
    "\n",
    "There's an edge case that we will need to consider, which is when the guess and/or the secret word contains multiple of the same letter. The rule here is that green (match in the correct spot) always has the highest priority, yellow (match in the wrong spot) prioritizes letters in earlier positions of your guess, and each letter in the secret word can only correspond to one letter in the guess. Take a look at the example below.\n",
    "\n",
    "- If the secret word is \"abide\" and the guess is \"three\", the pattern would be (0, 0, 0, 0, 2). Position 5 is an exact match so it has the highest priority to be green. Position 4 is indeed a match in the wrong spot, but since the \"e\" in \"abide\" is already taken, it cannot match to that same \"e\" again.\n",
    "\n",
    "![title](examples/ex-1.png)\n",
    "\n",
    "- If the secret word is \"abide\" and the guess is \"drama\", the pattern would be (1, 0, 1, 0, 0). Position 3 is a yellow match that has priority over the potential yellow match at position 5.\n",
    "\n",
    "![title](examples/ex-2.png)"
   ]
  },
  {
   "cell_type": "code",
   "execution_count": 9,
   "metadata": {},
   "outputs": [],
   "source": [
    "@lru_cache(maxsize=None)\n",
    "def compute_pattern(guess, answer):\n",
    "    # Returns a length 5 tuple\n",
    "    \n",
    "    pattern = [0, 0, 0, 0, 0]\n",
    "    taken = [False, False, False, False, False]\n",
    "    \n",
    "    # Green pass\n",
    "    for i in range(5):\n",
    "        if guess[i] == answer[i]:\n",
    "            # If it's an exact match, color it green, and mark it as taken\n",
    "            # so that the yellow pass doesn't match to it again\n",
    "            pattern[i] = 2\n",
    "            taken[i] = True\n",
    "    \n",
    "    # Yellow pass\n",
    "    for i in range(5):\n",
    "        if pattern[i] == 2:\n",
    "            # If a spot is already colored green, we skip it\n",
    "            continue\n",
    "        query = guess[i]\n",
    "        for j in range(5):\n",
    "            if query == answer[j] and taken[j] is False:\n",
    "                # If there is a misplaced match that is not taken by the\n",
    "                # green pass or a previous yellow pass, we color it yellow\n",
    "                # and mark it as taken\n",
    "                pattern[i] = 1\n",
    "                taken[j] = True\n",
    "                break\n",
    "    \n",
    "    return tuple(pattern)"
   ]
  },
  {
   "cell_type": "markdown",
   "metadata": {},
   "source": [
    "Next, we compute the pattern between all pairs of potential guesses and potential answers, and tabulate the results for faster lookups in the future. This will take a while to run but save you a massive amount of time later. In later parts of the lab, you should use `pattern_table[guess][answer]` instead of `compute_pattern(guess, answer)`.\n",
    "\n",
    "*Note*: The first time you run this code block, it may take a long time to run. Therefore, we store the result in a file. If you don't complete the lab in one sitting, you can come back to it by loading the stored dictionary instead."
   ]
  },
  {
   "cell_type": "code",
   "execution_count": 10,
   "metadata": {},
   "outputs": [
    {
     "name": "stderr",
     "output_type": "stream",
     "text": [
      "100%|██████████| 12972/12972 [00:35<00:00, 363.04it/s]\n"
     ]
    }
   ],
   "source": [
    "# Change this to False to recompute the pattern table\n",
    "load_from_file = os.path.exists(os.path.join(\"checkpoint\", \"pattern_table\"))\n",
    "\n",
    "pattern_table = {}\n",
    "\n",
    "if not load_from_file:\n",
    "    for guess in tqdm(allowed_guesses):\n",
    "        word_table = {}\n",
    "        for answer in possible_words:\n",
    "            word_table[answer] = compute_pattern(guess, answer)\n",
    "        pattern_table[guess] = word_table\n",
    "\n",
    "    if not os.path.exists('checkpoint'):\n",
    "        os.mkdir('checkpoint')\n",
    "    file = open(os.path.join('checkpoint', 'pattern_table'), 'wb')\n",
    "    pickle.dump(pattern_table, file)\n",
    "    file.close()\n",
    "else:\n",
    "    file = open(os.path.join('checkpoint', 'pattern_table'), 'rb')\n",
    "    pattern_table = pickle.load(file)\n",
    "    file.close()"
   ]
  },
  {
   "cell_type": "markdown",
   "metadata": {},
   "source": [
    "## Guess Strategy\n",
    "\n",
    "We use the term \"alphabet of a random variable\" to mean the set of potential values it could take on with positive probability (not to be confused with the English alphabet). For example, the alphabet of $X$ is the set of 2315 possible secret words.\n",
    "\n",
    "Fix a time index $t$. Let $X_t = X|Y_1, \\ldots, Y_{t-1}$ where $Y_i$ is the pattern we observe after our $i$-th guess, which we assume has already happened. Then, we can see that $X_t$ also has a uniform distribution over its alphabet because the color pattens we observe only tell us which secret words are possible and which are not, but do not change the relative probabilities assigned to the possible secret words. In other words, we can think of each guess as \"narrowing down\" the alphabet of $X$.\n",
    "\n",
    "Let $Y_{t,k}$ be the resulting pattern for guessing the word $k$ at timestep $t$. Both $X_t$ and $Y_{t,k}$ are random variables. Note that the index $k$ here is a word we guess. We want to minimize the conditional entropy $H(X_t|Y_{t,k})$ over $k \\in$ `allowed_guesses` since it's the \"leftover uncertainty\" about $X_t$ after observing the color pattern for $k$. Namely, if $Y_t=Y_{t,k}$ (meaning that we guess word $k$), then $H(X_t|Y_{t,k})=\\log_2 |\\text{alphabet of $X_{t+1}$}|$ since $X_{t+1}$ is still uniform over its alphabet.\n",
    "\n",
    "Recall that $$H(X_t)=I(X_t;Y_{t,k})+H(X_t|Y_{t,k}).$$\n",
    "\n",
    "Since $H(X_t)$ is a constant given a particular observation of $Y_1, \\ldots, Y_{t-1} = (y_1, \\ldots, y_{t-1})$, minimizing $H(X_t|Y_{t,k})$ is equivalent to maximizing $I(X_t;Y_{t,k})$.\n",
    "\n",
    "But what is $I(X_t;Y_{t,k})$? The mutual information is the amount of information in $X_t$ gained through observing $Y_{t,k}$, which equals the amount of information in $Y_{t,k}$ gained through observing $X_t$. However, if we know $X_t$ (which means we peek at the answer), then $Y_{t,k}|X_t$ is deterministic! Knowing $X_t$ would reduce the uncertainty in $Y_{t,k}$ from $H(Y_{t,k})$ to $0$, which means that\n",
    "\n",
    "$$I(X_t;Y_{t,k})=H(Y_{t,k})-H(Y_{t,k}|X_t)=H(Y_{t,k})-0=H(Y_{t,k}).$$\n",
    "\n",
    "The conclusion is that we reformulate the problem of minimizing $H(X_t|Y_{t,k})$ into maximizing $I(X_t;Y_{t,k})$ then into maximizing $H(Y_{t,k})$. Please make sure you fully understand our steps above!"
   ]
  },
  {
   "cell_type": "markdown",
   "metadata": {},
   "source": [
    "**Task 1**: Let's start by implementating `divide_alphabet`, which takes in a guess and the current alphabet. The function would split the alphabet into smaller subgroups. Namely, it returns a dictionary that maps from the set of possible color patterns to the set of secret words such that `pattern_table[guess][secret_word]` is that color pattern. For example, if `guess` is \"shake\" and `alphabet` is {shape, shake, shame}, then the function should return the mapping (2,2,2,2,2)$\\to${shake}, (2,2,2,0,2)$\\to${shape, shame}."
   ]
  },
  {
   "cell_type": "code",
   "execution_count": 22,
   "metadata": {
    "tags": [
     "otter_answer_cell"
    ]
   },
   "outputs": [
    {
     "name": "stdout",
     "output_type": "stream",
     "text": [
      "{(2, 2, 2, 0, 2): {'shame', 'shape'}, (2, 2, 2, 2, 2): {'shake'}}\n"
     ]
    }
   ],
   "source": [
    "def divide_alphabet(guess, alphabet):\n",
    "    pattern_to_subgroup = {}\n",
    "    for secret_word in alphabet:\n",
    "        pattern = pattern_table[guess][secret_word]\n",
    "        if pattern not in pattern_to_subgroup:\n",
    "            pattern_to_subgroup[pattern] = set()\n",
    "        pattern_to_subgroup[pattern].add(secret_word)\n",
    "    return pattern_to_subgroup\n",
    "\n",
    "test_pattern_groups = divide_alphabet(\"shake\", [\"shape\", \"shake\", \"shame\"])\n",
    "print(test_pattern_groups)"
   ]
  },
  {
   "cell_type": "code",
   "execution_count": 18,
   "metadata": {
    "deletable": false,
    "editable": false
   },
   "outputs": [
    {
     "data": {
      "text/html": [
       "<p><strong><pre style='display: inline;'>divide_alphabet</pre></strong> passed! 💯</p>"
      ],
      "text/plain": [
       "divide_alphabet results: All test cases passed!"
      ]
     },
     "execution_count": 18,
     "metadata": {},
     "output_type": "execute_result"
    }
   ],
   "source": [
    "grader.check(\"divide_alphabet\")"
   ]
  },
  {
   "cell_type": "markdown",
   "metadata": {},
   "source": [
    "Then, since $X$ is uniform over its alphabet, the probability that we observe each pattern is proportional to the number of words in that subgroup. \n",
    "\n",
    "**Task 2:** In the following cell, implement `prob_dist`, which takes in the output of the above function and returns the probability distribution over the set of possible patterns. For the same example above, this function would take in the mapping (2,2,2,2,2)$\\to${shake}, (2,2,2,0,2)$\\to${shape, shame} and return $\\left[\\frac{1}{3}, \\frac{2}{3}\\right]$ This is the distribution of $Y_{t,k}$."
   ]
  },
  {
   "cell_type": "code",
   "execution_count": 28,
   "metadata": {
    "tags": [
     "otter_answer_cell"
    ]
   },
   "outputs": [
    {
     "name": "stdout",
     "output_type": "stream",
     "text": [
      "[0.6666666666666666, 0.3333333333333333]\n"
     ]
    }
   ],
   "source": [
    "def prob_dist(pattern_groups):\n",
    "    # returns a probability distribution in the form of a list\n",
    "    # for example, if the probability distribution is\n",
    "    # P(pattern_1) = 0.2, P(pattern_2) = 0.3, P(pattern_3) = 0.5,\n",
    "    # this function should return [0.2, 0.3, 0.5]. Order doesn't matter\n",
    "    # find total no. words + words per pattern\n",
    "    dist = []\n",
    "    total = 0\n",
    "    for pattern in pattern_groups:\n",
    "        sz = len(pattern_groups[pattern])\n",
    "        total += sz\n",
    "        dist.append(sz)\n",
    "    # normalize to get freq\n",
    "    dist = [x/total for x in dist]\n",
    "    return dist\n",
    "\n",
    "test_dist = prob_dist(test_pattern_groups)\n",
    "print(test_dist)"
   ]
  },
  {
   "cell_type": "code",
   "execution_count": 27,
   "metadata": {
    "deletable": false,
    "editable": false
   },
   "outputs": [
    {
     "data": {
      "text/html": [
       "<p><strong><pre style='display: inline;'>prob_dist</pre></strong> passed! ✨</p>"
      ],
      "text/plain": [
       "prob_dist results: All test cases passed!"
      ]
     },
     "execution_count": 27,
     "metadata": {},
     "output_type": "execute_result"
    }
   ],
   "source": [
    "grader.check(\"prob_dist\")"
   ]
  },
  {
   "cell_type": "markdown",
   "metadata": {},
   "source": [
    "**Task 3:** In the cell below, implement the function `entropy`, which takes in a probability distribution (in a list format, like the output of the previous function) and outputs its entropy. You may assume that the distribution has no entry of $0$ and is a valid distribution. From this we can find $H(Y_k)$, which is the quantity we seek to maximize."
   ]
  },
  {
   "cell_type": "code",
   "execution_count": 29,
   "metadata": {
    "tags": [
     "otter_answer_cell"
    ]
   },
   "outputs": [
    {
     "name": "stdout",
     "output_type": "stream",
     "text": [
      "0.9182958340544896\n"
     ]
    }
   ],
   "source": [
    "def entropy(dist):\n",
    "    ret = 0\n",
    "    for i in dist:\n",
    "        ret -= i*math.log2(i)\n",
    "    return ret\n",
    "\n",
    "test_entropy = entropy(test_dist)\n",
    "print(test_entropy)\n"
   ]
  },
  {
   "cell_type": "code",
   "execution_count": 31,
   "metadata": {
    "deletable": false,
    "editable": false
   },
   "outputs": [
    {
     "data": {
      "text/html": [
       "<p><strong><pre style='display: inline;'>entropy</pre></strong> passed! 🌈</p>"
      ],
      "text/plain": [
       "entropy results: All test cases passed!"
      ]
     },
     "execution_count": 31,
     "metadata": {},
     "output_type": "execute_result"
    }
   ],
   "source": [
    "grader.check(\"entropy\")"
   ]
  },
  {
   "cell_type": "markdown",
   "metadata": {},
   "source": [
    "**Task 4**: Now we're into business! We've specified how to quantitatively compare quality of guesses, and let's now implement `find_best_guess`, which takes in the alphabet of $X_t$ and returns the best guess to make. Recall that the best guess is a guess $k\\in$ `allowed_guesses` that maximizes $H(Y_{t,k})$."
   ]
  },
  {
   "cell_type": "code",
   "execution_count": 32,
   "metadata": {
    "tags": [
     "otter_answer_cell"
    ]
   },
   "outputs": [],
   "source": [
    "def find_best_guess(alphabet, allowed_guesses, use_tqdm=False):\n",
    "    word, highest = None, 0\n",
    "    if use_tqdm:\n",
    "        allowed_guesses = tqdm(allowed_guesses)  # tqdm shows the progress bar\n",
    "    for guess in allowed_guesses:\n",
    "        pattern_groups = divide_alphabet(guess, alphabet)\n",
    "        dist = prob_dist(pattern_groups)\n",
    "        H = entropy(dist)\n",
    "        if H > highest:\n",
    "            word = guess\n",
    "            highest = H\n",
    "    return word"
   ]
  },
  {
   "cell_type": "markdown",
   "metadata": {
    "deletable": false,
    "editable": false
   },
   "source": [
    "## Best Wordle Opener\n",
    "\n",
    "Here is the question that Wordle lovers are looking for: What is the best opening guess under our scheme? (**Important Note:** this is the best opener given our assumptions that the secret word is picked *uniformly at random* over the 2315 possible secret words, and we are using a greedy algorithm to get the most information out of each guess. This is not guaranteed to be the truly optimal guess.)"
   ]
  },
  {
   "cell_type": "code",
   "execution_count": 33,
   "metadata": {
    "deletable": false,
    "editable": false
   },
   "outputs": [
    {
     "name": "stderr",
     "output_type": "stream",
     "text": [
      "100%|██████████| 12972/12972 [00:03<00:00, 3906.55it/s]\n"
     ]
    }
   ],
   "source": [
    "best_opener = find_best_guess(possible_words, allowed_guesses, use_tqdm=True)"
   ]
  },
  {
   "cell_type": "code",
   "execution_count": 34,
   "metadata": {
    "deletable": false,
    "editable": false
   },
   "outputs": [
    {
     "name": "stdout",
     "output_type": "stream",
     "text": [
      "The best Wordle opener is: soare\n"
     ]
    }
   ],
   "source": [
    "print('The best Wordle opener is:', best_opener)"
   ]
  },
  {
   "cell_type": "code",
   "execution_count": 35,
   "metadata": {
    "deletable": false,
    "editable": false
   },
   "outputs": [
    {
     "data": {
      "text/html": [
       "<p><strong><pre style='display: inline;'>find_best_guess</pre></strong> passed! ✨</p>"
      ],
      "text/plain": [
       "find_best_guess results: All test cases passed!"
      ]
     },
     "execution_count": 35,
     "metadata": {},
     "output_type": "execute_result"
    }
   ],
   "source": [
    "grader.check(\"find_best_guess\")"
   ]
  },
  {
   "cell_type": "markdown",
   "metadata": {},
   "source": [
    "The correct answer to the previous output is \"soare\", which is an obsolete form of sore (“A young hawk”) by Collins dictionary. Let's plot out the distribution of patterns we observe if we open with \"soare\", then compare it with if we opened with \"speed\" — a mediocre opener, and \"qajaq\" (which is an alternative spelling of kayak) — the worst opener. Since there's no natural ordering to pattern, we will instead order the patterns on the x-axis by decreasing probability."
   ]
  },
  {
   "cell_type": "code",
   "execution_count": 36,
   "metadata": {},
   "outputs": [
    {
     "name": "stdout",
     "output_type": "stream",
     "text": [
      "Expected information gain: 5.89 bits out of 11.18 bits\n"
     ]
    },
    {
     "data": {
      "image/png": "[encoded data removed]",
      "text/plain": [
       "<Figure size 640x480 with 1 Axes>"
      ]
     },
     "metadata": {},
     "output_type": "display_data"
    }
   ],
   "source": [
    "distribution = prob_dist(divide_alphabet('soare', possible_words))\n",
    "print(f'Expected information gain: {round(entropy(distribution),2)} bits out of 11.18 bits')\n",
    "distribution.sort(reverse=True)\n",
    "patterns = list(range(1, len(distribution) + 1))\n",
    "plt.bar(patterns, distribution)\n",
    "plt.title('Distribution of Patterns for SOARE Opening')\n",
    "plt.xlabel('Pattern Number')\n",
    "plt.ylabel('Probability')\n",
    "plt.show()"
   ]
  },
  {
   "cell_type": "code",
   "execution_count": 37,
   "metadata": {},
   "outputs": [
    {
     "name": "stdout",
     "output_type": "stream",
     "text": [
      "Expected information gain: 4.37 bits out of 11.18 bits\n"
     ]
    },
    {
     "data": {
      "image/png": "[encoded data removed]",
      "text/plain": [
       "<Figure size 640x480 with 1 Axes>"
      ]
     },
     "metadata": {},
     "output_type": "display_data"
    }
   ],
   "source": [
    "distribution = prob_dist(divide_alphabet('speed', possible_words))\n",
    "print(f'Expected information gain: {round(entropy(distribution),2)} bits out of 11.18 bits')\n",
    "distribution.sort(reverse=True)\n",
    "patterns = list(range(1, len(distribution) + 1))\n",
    "plt.bar(patterns, distribution)\n",
    "plt.title('Distribution of Patterns for SPEED Opening')\n",
    "plt.xlabel('Pattern Number')\n",
    "plt.ylabel('Probability')\n",
    "plt.show()"
   ]
  },
  {
   "cell_type": "code",
   "execution_count": 38,
   "metadata": {},
   "outputs": [
    {
     "name": "stdout",
     "output_type": "stream",
     "text": [
      "Expected information gain: 1.89 bits out of 11.18 bits\n"
     ]
    },
    {
     "data": {
      "image/png": "[encoded data removed]",
      "text/plain": [
       "<Figure size 640x480 with 1 Axes>"
      ]
     },
     "metadata": {},
     "output_type": "display_data"
    }
   ],
   "source": [
    "distribution = prob_dist(divide_alphabet('qajaq', possible_words))\n",
    "print(f'Expected information gain: {round(entropy(distribution),2)} bits out of 11.18 bits')\n",
    "distribution.sort(reverse=True)\n",
    "patterns = list(range(1, len(distribution) + 1))\n",
    "plt.bar(patterns, distribution)\n",
    "plt.title('Distribution of Patterns for QAJAQ Opening')\n",
    "plt.xlabel('Pattern Number')\n",
    "plt.ylabel('Probability')\n",
    "plt.show()"
   ]
  },
  {
   "cell_type": "markdown",
   "metadata": {},
   "source": [
    "The \"qajaq\" opener is so bad that only a few patterns have a positive probability of appearing, which has a very low entropy. Note that the horizontal axis of the last graph is on a different scale from the previous graphs."
   ]
  },
  {
   "cell_type": "markdown",
   "metadata": {
    "deletable": false,
    "editable": false
   },
   "source": [
    "<!-- BEGIN QUESTION -->\n",
    "\n",
    "**Written Question 2:** From how the graphs look, which one has a higher entropy and why? And why does it suggest \"soare\" is a better opener than \"speed\"?"
   ]
  },
  {
   "cell_type": "markdown",
   "metadata": {
    "tags": [
     "otter_answer_cell"
    ]
   },
   "source": [
    "Feel free to use this space to draft your answer. When you finish, remember to paste your response and any relevant plots/figures **into the accompanying Gradescope assignment**."
   ]
  },
  {
   "cell_type": "markdown",
   "metadata": {
    "deletable": false,
    "editable": false
   },
   "source": [
    "<!-- END QUESTION -->\n",
    "\n",
    "## Some Useful Optimizations (Read Only)\n",
    "\n",
    "This part has no implementation that you need to do, but it's highly recommended that you read through this section.\n",
    "\n",
    "The calculation to find \"soare\" took a while to run, didn't it? You may realize that the opening guess is always made without any observed pattern, so we don't need to calculate it every time, but can instead save the result that if it's our first guess, we would always return \"soare\".\n",
    "\n",
    "Another thing is that now our guesses always come from the huge list of allowed guesses. Suppose that we have now narrowed the alphabet of $X_t$ down to 2 words, \"price\" and \"pride\". Guessing a word that isn't in the alphabet, such as \"camel\", will certainly tell us which one is the correct answer (since it tells us whether there is a \"c\" in the answer), but we will still need to use a guess to report the correct answer, for a total of 2 additional guesses. However, if we guess a word in the alphabet, not only will it tell us which one of \"price\" and \"pride\" is the answer, but also we have a $\\frac{1}{2}$ probability to hit it right there so we don't need another guess. Therefore, when the remaining alphabet is small ($\\leq 3$), we can instead limit our guesses to within the alphabet.\n",
    "\n",
    "The following function implements these optimization ideas. Take a look at it to see what's going on."
   ]
  },
  {
   "cell_type": "code",
   "execution_count": 39,
   "metadata": {},
   "outputs": [],
   "source": [
    "def find_best_guess_optimized(alphabet):\n",
    "    if len(alphabet) == 2315:\n",
    "        # if it's the opening guess, we directly output 'soare'\n",
    "        return 'soare'\n",
    "    elif len(alphabet) == 1:\n",
    "        # if we are certain what the secret word is, directly guess it\n",
    "        return alphabet[0]\n",
    "    elif len(alphabet) <= 3:\n",
    "        # if the alphabet is small, limit our guess to within the alphabet\n",
    "        return find_best_guess(alphabet, alphabet)\n",
    "    else:\n",
    "        # otherwise, we apply no optimization\n",
    "        return find_best_guess(alphabet, allowed_guesses)"
   ]
  },
  {
   "cell_type": "markdown",
   "metadata": {},
   "source": [
    "## Performance Test\n",
    "\n",
    "Let's now sample some secret words and watch our algorithm find the secret word in action! \n",
    "\n",
    "**Task 5:** Implement the function `play_wordle`, which takes in the true secret word and simulates a Wordle game using our algorithm above."
   ]
  },
  {
   "cell_type": "code",
   "execution_count": null,
   "metadata": {},
   "outputs": [],
   "source": [
    "def create_wordle_game(true_answer):\n",
    "    def wordle_game(guess):\n",
    "        # takes in a guess and outputs the pattern\n",
    "        return pattern_table[guess][true_answer]\n",
    "        # return compute_pattern(guess, true_answer)\n",
    "    \n",
    "    return wordle_game"
   ]
  },
  {
   "cell_type": "code",
   "execution_count": 41,
   "metadata": {
    "tags": [
     "otter_answer_cell"
    ]
   },
   "outputs": [],
   "source": [
    "def play_wordle(wordle_game, print_guesses=False):\n",
    "    alphabet = possible_words\n",
    "    num_guesses = 0\n",
    "    while True:\n",
    "        num_guesses += 1\n",
    "        guess = find_best_guess_optimized(alphabet)\n",
    "        color_pattern = wordle_game(guess)\n",
    "        if print_guesses:\n",
    "            print(f'Guess {num_guesses}: {guess}  |  Pattern: {color_pattern}')\n",
    "        if color_pattern == (2, 2, 2, 2, 2):\n",
    "            # correct answer!\n",
    "            break\n",
    "        # Code here *should* update alphabet in a way that prevents infinite loops\n",
    "        else:\n",
    "            alphabet = [secret_word for secret_word in alphabet if pattern_table[guess][secret_word] == color_pattern]\n",
    "\n",
    "    return num_guesses"
   ]
  },
  {
   "cell_type": "code",
   "execution_count": 42,
   "metadata": {
    "scrolled": false
   },
   "outputs": [
    {
     "name": "stdout",
     "output_type": "stream",
     "text": [
      "Secret word: saute\n",
      "Guess 1: soare  |  Pattern: (2, 0, 1, 0, 2)\n",
      "Guess 2: sauce  |  Pattern: (2, 2, 2, 0, 2)\n",
      "Guess 3: saute  |  Pattern: (2, 2, 2, 2, 2)\n",
      "\n",
      "Secret word: smite\n",
      "Guess 1: soare  |  Pattern: (2, 0, 0, 0, 2)\n",
      "Guess 2: pling  |  Pattern: (0, 0, 2, 0, 0)\n",
      "Guess 3: smite  |  Pattern: (2, 2, 2, 2, 2)\n",
      "\n",
      "Secret word: brawn\n",
      "Guess 1: soare  |  Pattern: (0, 0, 2, 1, 0)\n",
      "Guess 2: clint  |  Pattern: (0, 0, 0, 1, 0)\n",
      "Guess 3: brawn  |  Pattern: (2, 2, 2, 2, 2)\n",
      "\n",
      "Secret word: pluck\n",
      "Guess 1: soare  |  Pattern: (0, 0, 0, 0, 0)\n",
      "Guess 2: clint  |  Pattern: (1, 2, 0, 0, 0)\n",
      "Guess 3: pluck  |  Pattern: (2, 2, 2, 2, 2)\n",
      "\n",
      "Secret word: carry\n",
      "Guess 1: soare  |  Pattern: (0, 0, 1, 2, 0)\n",
      "Guess 2: humic  |  Pattern: (0, 0, 0, 0, 1)\n",
      "Guess 3: carry  |  Pattern: (2, 2, 2, 2, 2)\n",
      "\n",
      "Secret word: newly\n",
      "Guess 1: soare  |  Pattern: (0, 0, 0, 0, 1)\n",
      "Guess 2: denet  |  Pattern: (0, 2, 1, 0, 0)\n",
      "Guess 3: abrin  |  Pattern: (0, 0, 0, 0, 1)\n",
      "Guess 4: newly  |  Pattern: (2, 2, 2, 2, 2)\n",
      "\n",
      "Secret word: debug\n",
      "Guess 1: soare  |  Pattern: (0, 0, 0, 0, 1)\n",
      "Guess 2: denet  |  Pattern: (2, 2, 0, 0, 0)\n",
      "Guess 3: debug  |  Pattern: (2, 2, 2, 2, 2)\n",
      "\n",
      "Secret word: snuck\n",
      "Guess 1: soare  |  Pattern: (2, 0, 0, 0, 0)\n",
      "Guess 2: thilk  |  Pattern: (0, 0, 0, 0, 2)\n",
      "Guess 3: skunk  |  Pattern: (2, 0, 2, 1, 2)\n",
      "Guess 4: snuck  |  Pattern: (2, 2, 2, 2, 2)\n",
      "\n",
      "Secret word: dairy\n",
      "Guess 1: soare  |  Pattern: (0, 0, 1, 2, 0)\n",
      "Guess 2: humic  |  Pattern: (0, 0, 0, 1, 0)\n",
      "Guess 3: dairy  |  Pattern: (2, 2, 2, 2, 2)\n",
      "\n",
      "Secret word: rabbi\n",
      "Guess 1: soare  |  Pattern: (0, 0, 1, 1, 0)\n",
      "Guess 2: riyal  |  Pattern: (2, 1, 0, 1, 0)\n",
      "Guess 3: abaci  |  Pattern: (1, 1, 0, 0, 2)\n",
      "Guess 4: rabbi  |  Pattern: (2, 2, 2, 2, 2)\n",
      "\n"
     ]
    }
   ],
   "source": [
    "for _ in range(10):\n",
    "    true_answer = random.choice(possible_words)\n",
    "    print('Secret word:', true_answer)\n",
    "    wordle_game = create_wordle_game(true_answer)\n",
    "    play_wordle(wordle_game, print_guesses=True)\n",
    "    print()"
   ]
  },
  {
   "cell_type": "markdown",
   "metadata": {},
   "source": [
    "Let's take a look at the distribution of the number of guesses needed by sampling 300 secret words. \n",
    "\n",
    "This cell may take a few minutes to run. If it takes way too long to run, you can instead sample fewer secret words."
   ]
  },
  {
   "cell_type": "code",
   "execution_count": 43,
   "metadata": {},
   "outputs": [
    {
     "name": "stderr",
     "output_type": "stream",
     "text": [
      "100%|██████████| 300/300 [00:54<00:00,  5.55it/s]\n"
     ]
    }
   ],
   "source": [
    "num_guesses = []\n",
    "num_samples = 300\n",
    "for true_answer in tqdm(random.sample(possible_words, num_samples)):\n",
    "    num_guesses.append(play_wordle(create_wordle_game(true_answer)))"
   ]
  },
  {
   "cell_type": "code",
   "execution_count": 44,
   "metadata": {},
   "outputs": [
    {
     "data": {
      "image/png": "[encoded data removed]",
      "text/plain": [
       "<Figure size 640x480 with 1 Axes>"
      ]
     },
     "metadata": {},
     "output_type": "display_data"
    }
   ],
   "source": [
    "bins = list(range(1, 8))\n",
    "plt.hist(num_guesses, bins, alpha=0.5, edgecolor='black', align='left')\n",
    "plt.xlabel('Number of Guesses')\n",
    "plt.xticks(list(range(1, 8)))\n",
    "plt.title('Wordle Solver Performance')\n",
    "plt.show()"
   ]
  },
  {
   "cell_type": "markdown",
   "metadata": {},
   "source": [
    "If your implementation is correct, your Wordle solver takes fewer guesses on average than American players on average."
   ]
  },
  {
   "cell_type": "code",
   "execution_count": 45,
   "metadata": {},
   "outputs": [
    {
     "name": "stdout",
     "output_type": "stream",
     "text": [
      "Average number of Wordle guesses using entropy: 3.47\n",
      "Average number of Wordle guesses for Americans: 3.92\n"
     ]
    }
   ],
   "source": [
    "print(f'Average number of Wordle guesses using entropy: {round(sum(num_guesses)/len(num_guesses), 3)}')\n",
    "print('Average number of Wordle guesses for Americans: 3.92')"
   ]
  },
  {
   "cell_type": "code",
   "execution_count": 46,
   "metadata": {
    "deletable": false,
    "editable": false
   },
   "outputs": [
    {
     "data": {
      "text/html": [
       "<p><strong><pre style='display: inline;'>test_play_wordle</pre></strong> passed! 🎉</p>"
      ],
      "text/plain": [
       "test_play_wordle results: All test cases passed!"
      ]
     },
     "execution_count": 46,
     "metadata": {},
     "output_type": "execute_result"
    }
   ],
   "source": [
    "grader.check(\"test_play_wordle\")"
   ]
  },
  {
   "cell_type": "markdown",
   "metadata": {},
   "source": [
    "## Wordle Bot! (Optional)\n",
    "\n",
    "For the final part of the lab, let's use what we've built so far and transform it into a Wordle bot! **Implement the following class `WordleBot`** that interactively outputs its suggested guess, and receives inputs that consist of your actual guess and the pattern displayed. Feel free to modify the code below to tailor the bot to your liking, such as outputting more than one suggested word, outputting the word along with its mutual information with the secret word, or giving it a better user interface in your personal project!"
   ]
  },
  {
   "cell_type": "code",
   "execution_count": null,
   "metadata": {
    "tags": [
     "otter_answer_cell"
    ]
   },
   "outputs": [],
   "source": [
    "class WordleBot:\n",
    "    def __init__(self):\n",
    "        # initialize for a new game\n",
    "        self.alphabet = possible_words\n",
    "        self.suggest()\n",
    "    \n",
    "    def suggest(self):\n",
    "        # TODO: when called, the bot gives you the best word to guess\n",
    "        suggested_guess = ...\n",
    "        print('Next word to guess:', suggested_guess)\n",
    "    \n",
    "    def observe(self, word, pattern):\n",
    "        # after a guess, feed the pattern to the bot to update\n",
    "        # then, the bot suggests a word to guess\n",
    "        assert len(word) == len(pattern) == 5\n",
    "        # TODO: update self.alphabet according to the observation,\n",
    "        # then call self.suggest()\n",
    "        ...\n",
    "    \n",
    "    def restart(self):\n",
    "        # TODO: re-initialize the bot for a new game\n",
    "        ..."
   ]
  },
  {
   "cell_type": "code",
   "execution_count": null,
   "metadata": {},
   "outputs": [],
   "source": [
    "bot = WordleBot()"
   ]
  },
  {
   "cell_type": "code",
   "execution_count": null,
   "metadata": {},
   "outputs": [],
   "source": [
    "bot.observe('soare', (0, 1, 0, 1, 0))"
   ]
  },
  {
   "cell_type": "code",
   "execution_count": null,
   "metadata": {},
   "outputs": [],
   "source": [
    "bot.observe('cutin', (2, 0, 0, 0, 0))"
   ]
  },
  {
   "cell_type": "code",
   "execution_count": null,
   "metadata": {},
   "outputs": [],
   "source": [
    "bot.observe('crock', (2, 2, 2, 0, 0))"
   ]
  },
  {
   "cell_type": "markdown",
   "metadata": {},
   "source": [
    "## Submission Instructions\n",
    "For this lab, there is **no** export cell. Instead, directly upload your completed `.ipynb` to the relevant Gradescope assignment. Make sure to save your work before uploading!!!\n",
    "\n",
    "Additionally, make sure all written questions have been answered in the corresponding Gradescope assignment."
   ]
  }
 ],
 "metadata": {
  "kernelspec": {
   "display_name": "eecs126",
   "language": "python",
   "name": "python3"
  },
  "language_info": {
   "codemirror_mode": {
    "name": "ipython",
    "version": 3
   },
   "file_extension": ".py",
   "mimetype": "text/x-python",
   "name": "python",
   "nbconvert_exporter": "python",
   "pygments_lexer": "ipython3",
   "version": "3.11.11"
  },
  "otter": {
   "OK_FORMAT": true,
   "tests": {
    "divide_alphabet": {
     "name": "divide_alphabet",
     "points": null,
     "suites": [
      {
       "cases": [
        {
         "code": ">>> def compare_mappings(m1, m2):\n...     assert set(m1.keys()) == set(m2.keys()), 'Mapping keys do not match'\n...     for key in m1:\n...         assert set(m1[key]) == set(m2[key]), f'Mapping values do not match for key {key}'\n...     return True\n>>> def test_divide_alphabet():\n...     alphabet1 = {'shape', 'shake', 'shame'}\n...     guess1 = 'shake'\n...     divided1 = divide_alphabet(guess1, alphabet1)\n...     ref_divided1 = {(2, 2, 2, 2, 2): {'shake'}, (2, 2, 2, 0, 2): {'shape', 'shame'}}\n...     assert compare_mappings(divided1, ref_divided1)\n...     alphabet2 = {'three', 'abide', 'drama'}\n...     guess2 = 'abide'\n...     divided2 = divide_alphabet(guess2, alphabet2)\n...     ref_divided2 = {(2, 2, 2, 2, 2): {'abide'}, (0, 0, 0, 0, 2): {'three'}, (1, 0, 0, 1, 0): {'drama'}}\n...     assert compare_mappings(divided2, ref_divided2)\n>>> test_divide_alphabet()\n",
         "hidden": false,
         "locked": false
        }
       ],
       "scored": true,
       "setup": "",
       "teardown": "",
       "type": "doctest"
      }
     ]
    },
    "entropy": {
     "name": "entropy",
     "points": null,
     "suites": [
      {
       "cases": [
        {
         "code": ">>> def test_entropy():\n...     from scipy.stats import entropy as scipy_entropy\n...     rng = random.Random(rng_seed)\n...     for _ in range(10):\n...         dist = [rng.random() for _ in range(rng.randint(1, 10))]\n...         dist = [p / sum(dist) for p in dist]\n...         assert math.isclose(entropy(dist), scipy_entropy(dist, base=2)), 'Entropy calculation is incorrect'\n>>> test_entropy()\n",
         "hidden": false,
         "locked": false
        }
       ],
       "scored": true,
       "setup": "",
       "teardown": "",
       "type": "doctest"
      }
     ]
    },
    "find_best_guess": {
     "name": "find_best_guess",
     "points": null,
     "suites": [
      {
       "cases": [
        {
         "code": ">>> def deterministic_hash(s):\n...     return hashlib.sha256(s.encode('utf-8')).hexdigest()\n>>> def check_opener():\n...     answer_hash = '1bab4e586c2b77840e0b27a0a1c0988d42a5d41b16607a8328f98306d1b17b8c'\n...     assert deterministic_hash(best_opener) == answer_hash, 'Wrong answer!'\n>>> check_opener()\n",
         "hidden": false,
         "locked": false
        }
       ],
       "scored": true,
       "setup": "",
       "teardown": "",
       "type": "doctest"
      }
     ]
    },
    "prob_dist": {
     "name": "prob_dist",
     "points": null,
     "suites": [
      {
       "cases": [
        {
         "code": ">>> def test_prob_dist():\n...     groups1 = {(2, 2, 2, 2, 2): {'shake'}, (2, 2, 2, 0, 2): {'shape', 'shame'}}\n...     dist1 = prob_dist(groups1)\n...     assert len(dist1) == len(groups1), 'Number of probabilities should match number of groups'\n...     assert all((g >= 0 for g in dist1)), 'All probabilities should be non-negative'\n...     assert math.isclose(sum(dist1), 1), 'Probabilities should sum up to 1'\n...     ground_truth1 = [1 / 3, 2 / 3]\n...     assert all((math.isclose(a, b) for a, b in zip(sorted(dist1), ground_truth1))), 'Probabilities not correct'\n...     groups2 = {(2, 2, 2, 2, 2): {'abide'}, (0, 0, 0, 0, 2): {'three'}, (1, 0, 0, 1, 0): {'drama'}}\n...     dist2 = prob_dist(groups2)\n...     assert len(dist2) == len(groups2), 'Number of probabilities should match number of groups'\n...     assert all((g >= 0 for g in dist2)), 'All probabilities should be non-negative'\n...     assert math.isclose(sum(dist2), 1), 'Probabilities should sum up to 1'\n...     ground_truth2 = [1 / 3, 1 / 3, 1 / 3]\n...     assert all((math.isclose(a, b) for a, b in zip(sorted(dist2), ground_truth2))), 'Probabilities not correct'\n>>> test_prob_dist()\n",
         "hidden": false,
         "locked": false
        }
       ],
       "scored": true,
       "setup": "",
       "teardown": "",
       "type": "doctest"
      }
     ]
    },
    "test_play_wordle": {
     "name": "test_play_wordle",
     "points": null,
     "suites": [
      {
       "cases": [
        {
         "code": ">>> def test_play_wordle():\n...     assert sum(num_guesses) / num_samples < 4, 'Wordle solver is not efficient enough. Make sure you are generating the plot for solver performance and that you are using a sufficiently high number of samples.'\n>>> test_play_wordle()\n",
         "hidden": false,
         "locked": false
        }
       ],
       "scored": true,
       "setup": "",
       "teardown": "",
       "type": "doctest"
      }
     ]
    }
   }
  }
 },
 "nbformat": 4,
 "nbformat_minor": 4
}
